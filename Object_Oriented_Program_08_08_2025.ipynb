{
  "nbformat": 4,
  "nbformat_minor": 0,
  "metadata": {
    "colab": {
      "provenance": [],
      "authorship_tag": "ABX9TyN/nSq5jtoO+ftggEHa/mZb",
      "include_colab_link": true
    },
    "kernelspec": {
      "name": "python3",
      "display_name": "Python 3"
    },
    "language_info": {
      "name": "python"
    }
  },
  "cells": [
    {
      "cell_type": "markdown",
      "metadata": {
        "id": "view-in-github",
        "colab_type": "text"
      },
      "source": [
        "<a href=\"https://colab.research.google.com/github/sreesanthrnair/DSA_Notes/blob/main/Object_Oriented_Program_08_08_2025.ipynb\" target=\"_parent\"><img src=\"https://colab.research.google.com/assets/colab-badge.svg\" alt=\"Open In Colab\"/></a>"
      ]
    },
    {
      "cell_type": "code",
      "execution_count": null,
      "metadata": {
        "colab": {
          "base_uri": "https://localhost:8080/"
        },
        "id": "eKc5HfN1sIDG",
        "outputId": "5fdc0107-e414-46e8-dce1-622fb5a26b45"
      },
      "outputs": [
        {
          "output_type": "stream",
          "name": "stdout",
          "text": [
            "Hello , Habibi come to Kerala\n"
          ]
        }
      ],
      "source": [
        "def greet():\n",
        "  print('Hello , Habibi come to Kerala')\n",
        "greet()"
      ]
    },
    {
      "cell_type": "code",
      "source": [
        "def saketh():\n",
        " pass\n"
      ],
      "metadata": {
        "id": "aKDwfgcPuzzk"
      },
      "execution_count": null,
      "outputs": []
    },
    {
      "cell_type": "code",
      "source": [
        "def greeting(name,time):\n",
        "  print(f'Hello {name} ,Welcome to the Program')\n",
        "  print(f'Your session will be start at {time}')\n",
        "greeting('Saketh','10 am')\n",
        "greeting('Nikhil','10.30 am')"
      ],
      "metadata": {
        "colab": {
          "base_uri": "https://localhost:8080/"
        },
        "id": "2TcF1oJ_vnZJ",
        "outputId": "2f6cd22b-6839-447e-cb6e-b10c00058b11"
      },
      "execution_count": null,
      "outputs": [
        {
          "output_type": "stream",
          "name": "stdout",
          "text": [
            "Hello Saketh ,Welcome to the Program\n",
            "Your session will be start at 10 am\n",
            "Hello Nikhil ,Welcome to the Program\n",
            "Your session will be start at 10.30 am\n"
          ]
        }
      ]
    },
    {
      "cell_type": "code",
      "source": [
        "def greeting(name,time='11.30 am'):\n",
        "  print(f'Hello {name} ,Welcome to the Program')\n",
        "  print(f'Your session will be start at {time}')\n",
        "greeting('Saketh')\n",
        "greeting('Nikhil','10.30 am')"
      ],
      "metadata": {
        "colab": {
          "base_uri": "https://localhost:8080/"
        },
        "id": "5G4PoZWexhGh",
        "outputId": "cfc5c126-f69e-4b45-d20d-3df612b0f927"
      },
      "execution_count": null,
      "outputs": [
        {
          "output_type": "stream",
          "name": "stdout",
          "text": [
            "Hello Saketh ,Welcome to the Program\n",
            "Your session will be start at 11.30 am\n",
            "Hello Nikhil ,Welcome to the Program\n",
            "Your session will be start at 10.30 am\n"
          ]
        }
      ]
    },
    {
      "cell_type": "code",
      "source": [
        "num1=int(input('Enter the First Number : '))\n",
        "num2=int(input('Enter the Second Number : '))\n",
        "def product(num1,num2):\n",
        "  result=num1*num2\n",
        "  print(f'The Product of the  {num1} * {num2} = {result}')\n",
        "product(num1,num2)"
      ],
      "metadata": {
        "colab": {
          "base_uri": "https://localhost:8080/"
        },
        "id": "LwkFseHSyFyk",
        "outputId": "584f1674-80aa-400f-9def-825f0466c243"
      },
      "execution_count": null,
      "outputs": [
        {
          "output_type": "stream",
          "name": "stdout",
          "text": [
            "Enter the First Number : 5\n",
            "Enter the Second Number : 5\n",
            "The Product of the  5 * 5 = 25\n"
          ]
        }
      ]
    },
    {
      "cell_type": "code",
      "source": [
        "#Adding 10% tip\n",
        "def total_amount(price):\n",
        "   tip=price + (0.1 * price)\n",
        "   print(f'The total bill you have {price} with adding tip {tip}')\n",
        "   print(f'Total Bill Amount {tip}')\n",
        "total_amount(120)"
      ],
      "metadata": {
        "colab": {
          "base_uri": "https://localhost:8080/"
        },
        "id": "CD_0LXd-1bc_",
        "outputId": "b35c9d31-1fc0-4e5c-df48-3c76d0619192"
      },
      "execution_count": null,
      "outputs": [
        {
          "output_type": "stream",
          "name": "stdout",
          "text": [
            "The total bill you have 120 with adding tip 132.0\n",
            "Total Bill Amount 132.0\n"
          ]
        }
      ]
    },
    {
      "cell_type": "code",
      "source": [
        "\n",
        "def total_amount(price):\n",
        "  if(price>1000):\n",
        "   tip=price + (0.2 * price)\n",
        "  elif(price>=500 and price<=1000):\n",
        "    tip=price + (0.15 * price)\n",
        "  else:\n",
        "    tip=price + (0.1 * price)\n",
        "  print(f'Total Bill Amount {tip}')\n",
        "total_amount(2000)"
      ],
      "metadata": {
        "colab": {
          "base_uri": "https://localhost:8080/"
        },
        "id": "M_sIwg044POR",
        "outputId": "18d4bc57-c15b-47a8-9443-f976ec57df41"
      },
      "execution_count": null,
      "outputs": [
        {
          "output_type": "stream",
          "name": "stdout",
          "text": [
            "Total Bill Amount 2400.0\n"
          ]
        }
      ]
    },
    {
      "cell_type": "code",
      "source": [
        "#Even\n",
        "num_list=[12,32,43,3,2,5,7,8,7,9,0,9,8,7,6,54,33,22,32,42]\n",
        "def average_even(numberlist):\n",
        "  even_list=[]\n",
        "  for num in numberlist:\n",
        "    if(num % 2 == 0):\n",
        "      even_list.append(num)\n",
        "  averageEven= sum(even_list)/len(even_list)\n",
        "  print(even_list)\n",
        "  print(averageEven)\n",
        "average_even(num_list)"
      ],
      "metadata": {
        "colab": {
          "base_uri": "https://localhost:8080/"
        },
        "id": "7XoXYdzD8N1f",
        "outputId": "111ac8b4-9794-4797-d9a2-876d76f37789"
      },
      "execution_count": null,
      "outputs": [
        {
          "output_type": "stream",
          "name": "stdout",
          "text": [
            "[12, 32, 2, 8, 0, 8, 6, 54, 22, 32, 42]\n",
            "19.818181818181817\n"
          ]
        }
      ]
    },
    {
      "cell_type": "code",
      "source": [
        "#Odd\n",
        "num_list=[12,32,43,3,2,5,7,8,7,9,0,9,8,7,6,54,33,22,32,42]\n",
        "def average_odd(numberlist):\n",
        "  odd_list=[]\n",
        "  for num in numberlist:\n",
        "    if(num % 2 == 1):\n",
        "      odd_list.append(num)\n",
        "  averageOdd= sum(odd_list)/len(odd_list)\n",
        "  print(odd_list)\n",
        "  print(averageOdd)\n",
        "average_odd(num_list)"
      ],
      "metadata": {
        "colab": {
          "base_uri": "https://localhost:8080/"
        },
        "id": "8Q2GZKuS-d2r",
        "outputId": "ecc77382-194d-484b-9607-d1497739a3a6"
      },
      "execution_count": null,
      "outputs": [
        {
          "output_type": "stream",
          "name": "stdout",
          "text": [
            "[43, 3, 5, 7, 7, 9, 9, 7, 33]\n",
            "13.666666666666666\n"
          ]
        }
      ]
    },
    {
      "cell_type": "code",
      "source": [
        "#total using Tuple format\n",
        "def sum_numbers(*args):\n",
        "  print(type(args))\n",
        "  total=0\n",
        "  for i in (args):\n",
        "    total+=1\n",
        "  print(total)\n",
        "sum_numbers(1,2,3,4,5)"
      ],
      "metadata": {
        "colab": {
          "base_uri": "https://localhost:8080/"
        },
        "id": "9fAC155G_tBu",
        "outputId": "a4651c1a-c02f-4cde-8bdf-4b1cbeedc404"
      },
      "execution_count": null,
      "outputs": [
        {
          "output_type": "stream",
          "name": "stdout",
          "text": [
            "<class 'tuple'>\n",
            "5\n"
          ]
        }
      ]
    },
    {
      "cell_type": "code",
      "source": [
        "#Dict format\n",
        "def print_info(**args):\n",
        "  print(type(args))\n",
        "  for item,val in args.items():\n",
        "    print(f'{item} is {val}')\n",
        "print_info(name='Nikhil',place='IDK',Score=6)\n",
        "print_info(name='Saketh',place='Tvm',mark=100)\n"
      ],
      "metadata": {
        "colab": {
          "base_uri": "https://localhost:8080/"
        },
        "id": "DjOCFX3NBdmX",
        "outputId": "4358e163-775d-4a8f-b93d-c9f49c10d4c8"
      },
      "execution_count": null,
      "outputs": [
        {
          "output_type": "stream",
          "name": "stdout",
          "text": [
            "<class 'dict'>\n",
            "name is Nikhil\n",
            "place is IDK\n",
            "Score is 6\n",
            "<class 'dict'>\n",
            "name is Saketh\n",
            "place is Tvm\n",
            "mark is 100\n"
          ]
        }
      ]
    },
    {
      "cell_type": "code",
      "source": [
        "#LAMDA\n",
        "square = lambda x : x*x\n",
        "square(5)\n"
      ],
      "metadata": {
        "colab": {
          "base_uri": "https://localhost:8080/"
        },
        "id": "Pb1fCca1Lg-i",
        "outputId": "75634340-4a25-4d92-d3b4-857dd8d1bdcb"
      },
      "execution_count": null,
      "outputs": [
        {
          "output_type": "execute_result",
          "data": {
            "text/plain": [
              "25"
            ]
          },
          "metadata": {},
          "execution_count": 35
        }
      ]
    },
    {
      "cell_type": "code",
      "source": [
        "add = lambda x,y :x + y\n",
        "add(4,4)"
      ],
      "metadata": {
        "colab": {
          "base_uri": "https://localhost:8080/"
        },
        "id": "Fh_fkcg7NYcy",
        "outputId": "cd9d1b85-b90a-4c9b-edfc-92765e58bfb8"
      },
      "execution_count": null,
      "outputs": [
        {
          "output_type": "execute_result",
          "data": {
            "text/plain": [
              "8"
            ]
          },
          "metadata": {},
          "execution_count": 36
        }
      ]
    },
    {
      "cell_type": "code",
      "source": [
        "def Totalmark(marks):\n",
        "  return(sum(marks))\n",
        "FinalScore = Totalmark([10,20,30,40,50])\n",
        "if(FinalScore>=90):\n",
        "  print('Grade A')\n",
        "elif(FinalScore>=80):\n",
        "  print('Grade B')\n",
        "elif(FinalScore>=70):\n",
        "  print('Grade C')\n",
        "elif(FinalScore>=60):\n",
        "  print('Grade D')\n",
        "else:\n",
        "    print('Fail')\n"
      ],
      "metadata": {
        "colab": {
          "base_uri": "https://localhost:8080/"
        },
        "id": "RUecM9K9NsEN",
        "outputId": "1bca2f0b-b686-4924-c90f-96aa2f60120a"
      },
      "execution_count": null,
      "outputs": [
        {
          "output_type": "stream",
          "name": "stdout",
          "text": [
            "Grade A\n"
          ]
        }
      ]
    },
    {
      "cell_type": "markdown",
      "source": [
        "## OOPS Concept\n"
      ],
      "metadata": {
        "id": "D1TY5vmUP44V"
      }
    },
    {
      "cell_type": "markdown",
      "source": [
        "1.Class\\\n",
        "2.Object/instance\\\n",
        "3.Inheritance\\\n",
        "4.Polymorphism\\\n",
        "5.Encapsulation\\\n",
        "6.Abstraction"
      ],
      "metadata": {
        "id": "lXEBdfORQBPo"
      }
    },
    {
      "cell_type": "markdown",
      "source": [],
      "metadata": {
        "id": "hEGvR8zAZK15"
      }
    },
    {
      "cell_type": "code",
      "source": [
        "class Animal:\n",
        "  animal_type='Dog'\n",
        "  num_legs=4\n",
        "  mammal='Yes'\n",
        "  def sound():\n",
        "    print('Animal Bark')\n",
        "Animal.sound()"
      ],
      "metadata": {
        "colab": {
          "base_uri": "https://localhost:8080/"
        },
        "id": "XTGsPbccSHHG",
        "outputId": "bfed9fe1-edb7-4113-947a-ab2c1bab549f"
      },
      "execution_count": null,
      "outputs": [
        {
          "output_type": "stream",
          "name": "stdout",
          "text": [
            "Animal Bark\n"
          ]
        }
      ]
    },
    {
      "cell_type": "code",
      "source": [
        "#self is a pointer\n",
        "class Animal:\n",
        "  animal_type='Dog'\n",
        "  num_legs=4\n",
        "  mammal='Yes'\n",
        "  def Sound(self):\n",
        "    print('Animal Bark')\n",
        "obj1=Animal()\n",
        "obj1.Sound()"
      ],
      "metadata": {
        "colab": {
          "base_uri": "https://localhost:8080/"
        },
        "id": "QjP3BhUuSz1c",
        "outputId": "247ba1e4-6f99-4072-b690-96e0ce1fa0d1"
      },
      "execution_count": null,
      "outputs": [
        {
          "output_type": "stream",
          "name": "stdout",
          "text": [
            "Animal Bark\n"
          ]
        }
      ]
    },
    {
      "cell_type": "code",
      "source": [
        "class Person:\n",
        "  place='TVM'\n",
        "  def __init__(self,name,age):\n",
        "    self.name=name\n",
        "    self.age=age\n",
        "  def greet(self) :\n",
        "    return(f'Hii myself {self.name} and my age is {self.age} and iam from {self.place}')\n",
        "std1=Person('Nikhil',25)\n",
        "std1.greet()\n",
        "std2=Person('Saketh',23)\n",
        "std2.greet()\n"
      ],
      "metadata": {
        "colab": {
          "base_uri": "https://localhost:8080/",
          "height": 36
        },
        "id": "3B1ZTtl2UQ58",
        "outputId": "38da8ac0-11ba-4436-fbe8-48b139cbf2bd"
      },
      "execution_count": null,
      "outputs": [
        {
          "output_type": "execute_result",
          "data": {
            "text/plain": [
              "'Hii myself Saketh and my age is 23 and iam from TVM'"
            ],
            "application/vnd.google.colaboratory.intrinsic+json": {
              "type": "string"
            }
          },
          "metadata": {},
          "execution_count": 56
        }
      ]
    },
    {
      "cell_type": "markdown",
      "source": [
        "### Derived Class\n"
      ],
      "metadata": {
        "id": "ETY0r4CRZBVV"
      }
    },
    {
      "cell_type": "code",
      "source": [
        "class Employee:\n",
        "  def __init__(self,name,emp_id,salary):\n",
        "    self.name=name\n",
        "    self.emp_id=emp_id\n",
        "    self.salary=salary\n",
        "  def display_info(self):\n",
        "    print(f'Name : {self.name}')\n",
        "    print(f'Employeee ID : {self.emp_id}')\n",
        "    print(f'Salary : {self.salary}')\n"
      ],
      "metadata": {
        "id": "5ZtapTYyZnMh"
      },
      "execution_count": null,
      "outputs": []
    },
    {
      "cell_type": "code",
      "source": [
        "emp1=Employee('Nikil',1113232,50000)\n",
        "emp1.display_info()\n",
        "emp2=Employee('Saketh',121342,50000)\n",
        "emp2.display_info()"
      ],
      "metadata": {
        "colab": {
          "base_uri": "https://localhost:8080/"
        },
        "id": "FDCERFsaakpA",
        "outputId": "47d2762c-fb7e-489c-ab6c-3f798322cdd1"
      },
      "execution_count": null,
      "outputs": [
        {
          "output_type": "stream",
          "name": "stdout",
          "text": [
            "Name : Nikil\n",
            "Employeee ID : 1113232\n",
            "Salary : 50000\n",
            "Name : Saketh\n",
            "Employeee ID : 121342\n",
            "Salary : 50000\n"
          ]
        }
      ]
    },
    {
      "cell_type": "code",
      "source": [
        "class Manager(Employee):\n",
        "  def __init__(self,name,emp_id,salary,dept,teamSize):\n",
        "    super().__init__(name,emp_id,salary)\n",
        "    self.dept=dept\n",
        "    self.teamSize=teamSize\n",
        "  def display_manager_info(self):\n",
        "    self.display_info()\n",
        "    print(f'Department :{self.dept}')\n",
        "    print(f'Team Size : {self.teamSize}')\n",
        "\n"
      ],
      "metadata": {
        "id": "q2QS2YkPbYpZ"
      },
      "execution_count": null,
      "outputs": []
    },
    {
      "cell_type": "code",
      "source": [
        "  emp1=Employee('Saketh',234543,50000)\n",
        "  emp1.display_info()\n"
      ],
      "metadata": {
        "colab": {
          "base_uri": "https://localhost:8080/"
        },
        "id": "1E9VbXv4c4vm",
        "outputId": "3c93bd23-1312-4aa4-802e-4dbad75a35b6"
      },
      "execution_count": null,
      "outputs": [
        {
          "output_type": "stream",
          "name": "stdout",
          "text": [
            "Name : Saketh\n",
            "Employeee ID : 234543\n",
            "Salary : 50000\n"
          ]
        }
      ]
    },
    {
      "cell_type": "code",
      "source": [
        "emp2=Manager('Nikhil',43221,50000,'IT',10)\n",
        "emp2.display_manager_info()"
      ],
      "metadata": {
        "colab": {
          "base_uri": "https://localhost:8080/"
        },
        "id": "sfOUAOoPdUHZ",
        "outputId": "dd31f31e-4982-4dab-b425-6736db669c70"
      },
      "execution_count": null,
      "outputs": [
        {
          "output_type": "stream",
          "name": "stdout",
          "text": [
            "Name : Nikhil\n",
            "Employeee ID : 43221\n",
            "Salary : 50000\n",
            "Department :IT\n",
            "Team Size : 10\n"
          ]
        }
      ]
    },
    {
      "cell_type": "code",
      "source": [
        "class TeamLead(Manager):\n",
        "  def __init__(self, name, emp_id, salary, dept, teamSize, project_name):\n",
        "    super().__init__(name, emp_id, salary, dept, teamSize)\n",
        "    self.project_name = project_name\n",
        "\n",
        "  def display_tl_info(self):\n",
        "    self.display_manager_info()\n",
        "    print(f'Project name: {self.project_name}')\n",
        "\n",
        "\n",
        "tl1 = TeamLead('Sreesanth', 1245666, 75000, 'IT', 8, 'payment interface')\n",
        "tl1.display_tl_info()\n"
      ],
      "metadata": {
        "id": "-86f2U8BeZea",
        "colab": {
          "base_uri": "https://localhost:8080/"
        },
        "outputId": "32560f97-262a-4d3b-a22f-feb673856461"
      },
      "execution_count": null,
      "outputs": [
        {
          "output_type": "stream",
          "name": "stdout",
          "text": [
            "Name : Sreesanth\n",
            "Employeee ID : 1245666\n",
            "Salary : 75000\n",
            "Department :IT\n",
            "Team Size : 8\n",
            "Project name: payment interface\n"
          ]
        }
      ]
    }
  ]
}