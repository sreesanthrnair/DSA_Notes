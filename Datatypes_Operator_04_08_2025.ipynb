{
  "nbformat": 4,
  "nbformat_minor": 0,
  "metadata": {
    "colab": {
      "provenance": [],
      "authorship_tag": "ABX9TyPQAnATE0VSgQ1DpL5BLD83",
      "include_colab_link": true
    },
    "kernelspec": {
      "name": "python3",
      "display_name": "Python 3"
    },
    "language_info": {
      "name": "python"
    }
  },
  "cells": [
    {
      "cell_type": "markdown",
      "metadata": {
        "id": "view-in-github",
        "colab_type": "text"
      },
      "source": [
        "<a href=\"https://colab.research.google.com/github/sreesanthrnair/DSA_Notes/blob/main/Datatypes_Operator_04_08_2025.ipynb\" target=\"_parent\"><img src=\"https://colab.research.google.com/assets/colab-badge.svg\" alt=\"Open In Colab\"/></a>"
      ]
    },
    {
      "cell_type": "markdown",
      "source": [
        "# **Data Types**"
      ],
      "metadata": {
        "id": "XdfOZdUDO8dy"
      }
    },
    {
      "cell_type": "markdown",
      "source": [
        "## **Numeric**"
      ],
      "metadata": {
        "id": "_VEElbmFPGcu"
      }
    },
    {
      "cell_type": "code",
      "execution_count": null,
      "metadata": {
        "colab": {
          "base_uri": "https://localhost:8080/"
        },
        "id": "a5p3ldVoKwk-",
        "outputId": "ee1e00b6-9abd-40d8-82bf-0ca0defa5beb"
      },
      "outputs": [
        {
          "output_type": "stream",
          "name": "stdout",
          "text": [
            "28\n"
          ]
        }
      ],
      "source": [
        "age=28\n",
        "print(age)"
      ]
    },
    {
      "cell_type": "code",
      "source": [
        "type(age)"
      ],
      "metadata": {
        "colab": {
          "base_uri": "https://localhost:8080/"
        },
        "id": "q1F8ryG7MJDF",
        "outputId": "c16ea880-2ae6-4a6f-8292-ef4fbb215169"
      },
      "execution_count": null,
      "outputs": [
        {
          "output_type": "execute_result",
          "data": {
            "text/plain": [
              "int"
            ]
          },
          "metadata": {},
          "execution_count": 5
        }
      ]
    },
    {
      "cell_type": "code",
      "source": [
        "age=20.1\n",
        "print(age)"
      ],
      "metadata": {
        "colab": {
          "base_uri": "https://localhost:8080/"
        },
        "id": "N96Ildj_OG2f",
        "outputId": "627c9fbd-673a-492f-a141-ca789c252eb8"
      },
      "execution_count": null,
      "outputs": [
        {
          "output_type": "stream",
          "name": "stdout",
          "text": [
            "20.1\n"
          ]
        }
      ]
    },
    {
      "cell_type": "code",
      "source": [
        "type(age)"
      ],
      "metadata": {
        "colab": {
          "base_uri": "https://localhost:8080/"
        },
        "id": "e1d5eNXoOOt7",
        "outputId": "9c38dec8-f808-4cf1-ec5d-c6d2da6b33bc"
      },
      "execution_count": null,
      "outputs": [
        {
          "output_type": "execute_result",
          "data": {
            "text/plain": [
              "float"
            ]
          },
          "metadata": {},
          "execution_count": 9
        }
      ]
    },
    {
      "cell_type": "code",
      "source": [
        "age=2.5+6j\n",
        "print(age)"
      ],
      "metadata": {
        "colab": {
          "base_uri": "https://localhost:8080/"
        },
        "id": "HH1hTIq8Odat",
        "outputId": "de7fb524-d216-41a2-a94c-fa26a4d763e1"
      },
      "execution_count": null,
      "outputs": [
        {
          "output_type": "stream",
          "name": "stdout",
          "text": [
            "(2.5+6j)\n"
          ]
        }
      ]
    },
    {
      "cell_type": "code",
      "source": [
        "type(age)"
      ],
      "metadata": {
        "colab": {
          "base_uri": "https://localhost:8080/"
        },
        "id": "2QQA920FOy6U",
        "outputId": "29933c13-0b46-4b16-ff08-0ac6088da389"
      },
      "execution_count": null,
      "outputs": [
        {
          "output_type": "execute_result",
          "data": {
            "text/plain": [
              "complex"
            ]
          },
          "metadata": {},
          "execution_count": 11
        }
      ]
    },
    {
      "cell_type": "markdown",
      "source": [
        "# Sequences"
      ],
      "metadata": {
        "id": "Nxo9DYNFWnwv"
      }
    },
    {
      "cell_type": "markdown",
      "source": [
        "## **String**"
      ],
      "metadata": {
        "id": "kpfchchzPSOu"
      }
    },
    {
      "cell_type": "code",
      "source": [
        "name=\"Sree\"\n",
        "print(name)"
      ],
      "metadata": {
        "colab": {
          "base_uri": "https://localhost:8080/"
        },
        "id": "5tNdoDA9Pafh",
        "outputId": "dc646a6a-6393-43c1-fa98-130a07171ba0"
      },
      "execution_count": null,
      "outputs": [
        {
          "output_type": "stream",
          "name": "stdout",
          "text": [
            "Sree\n"
          ]
        }
      ]
    },
    {
      "cell_type": "code",
      "source": [
        "type(name)"
      ],
      "metadata": {
        "colab": {
          "base_uri": "https://localhost:8080/"
        },
        "id": "-o3AenyJPgvW",
        "outputId": "11af30b8-c4bc-435b-da76-ed1a63708831"
      },
      "execution_count": null,
      "outputs": [
        {
          "output_type": "execute_result",
          "data": {
            "text/plain": [
              "str"
            ]
          },
          "metadata": {},
          "execution_count": 13
        }
      ]
    },
    {
      "cell_type": "code",
      "source": [
        "#List Mutable\n",
        "\n",
        "days=[\"Sunday\",\"Monday\",\"Tuesday\",\"Wednesday\",\"Thursday\",\"Friday\",\"Saturday\"]\n",
        "print(days)"
      ],
      "metadata": {
        "colab": {
          "base_uri": "https://localhost:8080/"
        },
        "id": "VKuHewbzP4qU",
        "outputId": "eda8dd40-e478-4d61-8fd8-7f98e204aa8b"
      },
      "execution_count": null,
      "outputs": [
        {
          "output_type": "stream",
          "name": "stdout",
          "text": [
            "['Sunday', 'Monday', 'Tuesday', 'Wednesday', 'Thursday', 'Friday', 'Saturday']\n"
          ]
        }
      ]
    },
    {
      "cell_type": "markdown",
      "source": [
        "## Tuple"
      ],
      "metadata": {
        "id": "0oNcBjjqQ36N"
      }
    },
    {
      "cell_type": "code",
      "source": [
        "#Tuple - Immutable\n",
        "\n",
        "name=(\"Nikhil\",10,\"Saketh\",8,\"Sreesanth\",7)\n",
        "print(name)"
      ],
      "metadata": {
        "colab": {
          "base_uri": "https://localhost:8080/"
        },
        "id": "OdoDZ2mfRFZV",
        "outputId": "c419df77-b223-4768-8c10-fc711d1d5c74"
      },
      "execution_count": null,
      "outputs": [
        {
          "output_type": "stream",
          "name": "stdout",
          "text": [
            "('Nikhil', 10, 'Saketh', 8, 'Sreesanth', 7)\n"
          ]
        }
      ]
    },
    {
      "cell_type": "markdown",
      "source": [
        "## Range"
      ],
      "metadata": {
        "id": "SWG4-SydTSQB"
      }
    },
    {
      "cell_type": "code",
      "source": [
        "#range(start,stop,step value)\n",
        "\n",
        "even=list(range(2,26,2))\n",
        "odd=list(range(1,26,2))\n",
        "print(even)\n",
        "print(odd)"
      ],
      "metadata": {
        "colab": {
          "base_uri": "https://localhost:8080/"
        },
        "id": "ExHghAYzSEhD",
        "outputId": "5ce90d4f-6702-41a2-97ae-ed0cf93e35b0"
      },
      "execution_count": null,
      "outputs": [
        {
          "output_type": "stream",
          "name": "stdout",
          "text": [
            "[2, 4, 6, 8, 10, 12, 14, 16, 18, 20, 22, 24]\n",
            "[1, 3, 5, 7, 9, 11, 13, 15, 17, 19, 21, 23, 25]\n"
          ]
        }
      ]
    },
    {
      "cell_type": "code",
      "source": [
        "list(range(3,13,3))"
      ],
      "metadata": {
        "colab": {
          "base_uri": "https://localhost:8080/"
        },
        "id": "cRbatNNVTgnS",
        "outputId": "3bb848e5-2bbf-4190-caa8-9822664591a2"
      },
      "execution_count": null,
      "outputs": [
        {
          "output_type": "execute_result",
          "data": {
            "text/plain": [
              "[3, 6, 9, 12]"
            ]
          },
          "metadata": {},
          "execution_count": 25
        }
      ]
    },
    {
      "cell_type": "code",
      "source": [
        "list(range(8,-1,-2))"
      ],
      "metadata": {
        "colab": {
          "base_uri": "https://localhost:8080/"
        },
        "id": "UR2629b7TvaI",
        "outputId": "59ebf5e3-18e9-4e57-cfaf-0b170d35ac7e"
      },
      "execution_count": null,
      "outputs": [
        {
          "output_type": "execute_result",
          "data": {
            "text/plain": [
              "[8, 6, 4, 2, 0]"
            ]
          },
          "metadata": {},
          "execution_count": 26
        }
      ]
    },
    {
      "cell_type": "markdown",
      "source": [
        "## Dictionary"
      ],
      "metadata": {
        "id": "kUOAeD0KT5UB"
      }
    },
    {
      "cell_type": "code",
      "source": [
        "details={\"batch\":7,\"course\":\"DSA\"}\n",
        "print(details[\"batch\"])\n",
        "print(details[\"course\"])\n"
      ],
      "metadata": {
        "colab": {
          "base_uri": "https://localhost:8080/"
        },
        "id": "w9Ci2SOZT9gJ",
        "outputId": "1a634142-710e-484e-88b9-c365f43cea02"
      },
      "execution_count": null,
      "outputs": [
        {
          "output_type": "stream",
          "name": "stdout",
          "text": [
            "7\n",
            "DSA\n"
          ]
        }
      ]
    },
    {
      "cell_type": "code",
      "source": [
        "type(details)\n",
        "print(details.keys())\n",
        "print(details.values())"
      ],
      "metadata": {
        "colab": {
          "base_uri": "https://localhost:8080/"
        },
        "id": "0-x4u-vgUpXt",
        "outputId": "fd808485-0b28-4b80-c7ab-96facb0ac391"
      },
      "execution_count": null,
      "outputs": [
        {
          "output_type": "stream",
          "name": "stdout",
          "text": [
            "dict_keys(['batch', 'course'])\n",
            "dict_values([7, 'DSA'])\n"
          ]
        }
      ]
    },
    {
      "cell_type": "code",
      "source": [
        "details[\"location\"]=\"Pathanamthitta\"\n",
        "details"
      ],
      "metadata": {
        "colab": {
          "base_uri": "https://localhost:8080/"
        },
        "id": "ici9LqqwVhzK",
        "outputId": "d70e4533-6012-4cfb-af3e-f1b793fc7005"
      },
      "execution_count": null,
      "outputs": [
        {
          "output_type": "execute_result",
          "data": {
            "text/plain": [
              "{'batch': 7, 'course': 'DSA', 'location': 'Pathanamthitta'}"
            ]
          },
          "metadata": {},
          "execution_count": 36
        }
      ]
    },
    {
      "cell_type": "markdown",
      "source": [
        "## Set"
      ],
      "metadata": {
        "id": "58P9peQkV8b2"
      }
    },
    {
      "cell_type": "code",
      "source": [
        "data=[1,3,4,2,5,6,8,7,8,9,9,8,0,0,2,1,4,5,6,]\n",
        "set(data)"
      ],
      "metadata": {
        "colab": {
          "base_uri": "https://localhost:8080/"
        },
        "id": "UvFpkGBeV-qj",
        "outputId": "7c4a9bee-dd20-472d-eb55-131bdd844622"
      },
      "execution_count": null,
      "outputs": [
        {
          "output_type": "execute_result",
          "data": {
            "text/plain": [
              "{0, 1, 2, 3, 4, 5, 6, 7, 8, 9}"
            ]
          },
          "metadata": {},
          "execution_count": 37
        }
      ]
    },
    {
      "cell_type": "markdown",
      "source": [
        "### Boolean"
      ],
      "metadata": {
        "id": "6A6_DhJ5WQ5K"
      }
    },
    {
      "cell_type": "code",
      "source": [
        "engine_on=True\n",
        "engine_off=False\n",
        "type(engine_off)"
      ],
      "metadata": {
        "colab": {
          "base_uri": "https://localhost:8080/"
        },
        "id": "0-XqxxQYWTpx",
        "outputId": "bc92d0b7-e8b2-4e22-8c4f-54074d7a8f33"
      },
      "execution_count": null,
      "outputs": [
        {
          "output_type": "execute_result",
          "data": {
            "text/plain": [
              "bool"
            ]
          },
          "metadata": {},
          "execution_count": 39
        }
      ]
    },
    {
      "cell_type": "markdown",
      "source": [
        "## None Type"
      ],
      "metadata": {
        "id": "YnPYtHP0Xfg8"
      }
    },
    {
      "cell_type": "code",
      "source": [
        "value=None\n",
        "type(value)"
      ],
      "metadata": {
        "colab": {
          "base_uri": "https://localhost:8080/"
        },
        "id": "eLdSJmZtXjSC",
        "outputId": "3c0cb99c-38cc-4974-d45a-5f00c0ab9634"
      },
      "execution_count": null,
      "outputs": [
        {
          "output_type": "execute_result",
          "data": {
            "text/plain": [
              "NoneType"
            ]
          },
          "metadata": {},
          "execution_count": 40
        }
      ]
    },
    {
      "cell_type": "markdown",
      "source": [
        "Demo"
      ],
      "metadata": {
        "id": "OUtO8nzCbpM_"
      }
    },
    {
      "cell_type": "code",
      "source": [
        "year_of_birth=1990\n",
        "age=2025-1990\n",
        "print(age)"
      ],
      "metadata": {
        "colab": {
          "base_uri": "https://localhost:8080/"
        },
        "id": "EyJOMsheYe5G",
        "outputId": "d1d1b814-6e62-4d8b-c8d5-76fef608536a"
      },
      "execution_count": null,
      "outputs": [
        {
          "output_type": "stream",
          "name": "stdout",
          "text": [
            "35\n"
          ]
        }
      ]
    },
    {
      "cell_type": "code",
      "source": [
        "biodata={\"name1\":\"Nikhil\",\"age1\":32,\"location1\":\"Idukki\" ,\n",
        "         \"name2\":\"Saketh\",\"age2\":25,\"location2\":\"TVM\"}\n",
        "\n",
        "print(biodata)"
      ],
      "metadata": {
        "colab": {
          "base_uri": "https://localhost:8080/"
        },
        "id": "5XMqQQxzZiHO",
        "outputId": "71962c46-47ef-48c1-fb72-1b61e9d14a6b"
      },
      "execution_count": null,
      "outputs": [
        {
          "output_type": "stream",
          "name": "stdout",
          "text": [
            "{'name1': 'Nikhil', 'age1': 32, 'location1': 'Idukki', 'name2': 'Saketh', 'age2': 25, 'location2': 'TVM'}\n"
          ]
        }
      ]
    },
    {
      "cell_type": "code",
      "source": [
        "list_1=list(range(99,0,-2))\n",
        "print(list_1)"
      ],
      "metadata": {
        "colab": {
          "base_uri": "https://localhost:8080/"
        },
        "id": "pkKg-Nnwa5pf",
        "outputId": "0ce12a82-a7c1-4fc2-de16-4f1c4c8b4b99"
      },
      "execution_count": null,
      "outputs": [
        {
          "output_type": "stream",
          "name": "stdout",
          "text": [
            "[99, 97, 95, 93, 91, 89, 87, 85, 83, 81, 79, 77, 75, 73, 71, 69, 67, 65, 63, 61, 59, 57, 55, 53, 51, 49, 47, 45, 43, 41, 39, 37, 35, 33, 31, 29, 27, 25, 23, 21, 19, 17, 15, 13, 11, 9, 7, 5, 3, 1]\n"
          ]
        }
      ]
    },
    {
      "cell_type": "code",
      "source": [
        "to_do_list=[\"Wash clothes\",\"Prepare Notes\",\"Drink Water\",\"Take Medicine\",\"Read\"]\n",
        "print(to_do_list[1])\n",
        "print(to_do_list[-2])"
      ],
      "metadata": {
        "colab": {
          "base_uri": "https://localhost:8080/"
        },
        "id": "0FfCQO6hclbW",
        "outputId": "685baac1-dc85-44da-cc61-59e38ce858b5"
      },
      "execution_count": null,
      "outputs": [
        {
          "output_type": "stream",
          "name": "stdout",
          "text": [
            "Prepare Notes\n",
            "Take Medicine\n"
          ]
        }
      ]
    },
    {
      "cell_type": "code",
      "source": [
        "my_name=\"Sreesanth\"\n",
        "print(len(my_name))"
      ],
      "metadata": {
        "colab": {
          "base_uri": "https://localhost:8080/"
        },
        "id": "kOG93bHoduT5",
        "outputId": "0c15e80d-2354-4eb4-da01-02d4515e13ad"
      },
      "execution_count": null,
      "outputs": [
        {
          "output_type": "stream",
          "name": "stdout",
          "text": [
            "9\n"
          ]
        }
      ]
    },
    {
      "cell_type": "code",
      "source": [
        "num1=int(input(\"Enter the fisrt Number: \"))\n",
        "num2=int(input(\"Enter your Second Number: \"))\n",
        "print(\"Sum of the Number is \",num1+num2)\n",
        "print(\"Difference of the number is\",num1-num2 )\n",
        "print(\"Product of the number is\",num1*num2 )\n",
        "print(\"Quotient of the number is\",num1/num2 )"
      ],
      "metadata": {
        "colab": {
          "base_uri": "https://localhost:8080/"
        },
        "id": "nYmU_w_rfCjT",
        "outputId": "e01e433e-6951-47f8-f931-ba6f08ad39bd"
      },
      "execution_count": null,
      "outputs": [
        {
          "output_type": "stream",
          "name": "stdout",
          "text": [
            "Enter the fisrt Number: 3\n",
            "Enter your Second Number: 5\n",
            "Sum of the Number is  8\n",
            "Difference of the number is -2\n",
            "Product of the number is 15\n",
            "Quotient of the number is 0.6\n"
          ]
        }
      ]
    },
    {
      "cell_type": "code",
      "source": [
        "year_of_birth=int(input(\"Enter your DOB: \"))\n",
        "print(\"You were born in\",year_of_birth)\n",
        "age=2025-year_of_birth\n",
        "print(\"Your age is \",age)"
      ],
      "metadata": {
        "colab": {
          "base_uri": "https://localhost:8080/"
        },
        "id": "IDTdLtrDhRl5",
        "outputId": "e206b065-6918-4654-a628-3fd2ee2c63dc"
      },
      "execution_count": null,
      "outputs": [
        {
          "output_type": "stream",
          "name": "stdout",
          "text": [
            "Enter your DOB: 2004\n",
            "You were born in 2004\n",
            "Your age is  21\n"
          ]
        }
      ]
    },
    {
      "cell_type": "markdown",
      "source": [
        "### Operators"
      ],
      "metadata": {
        "id": "IPzfaCKrn3T6"
      }
    },
    {
      "cell_type": "markdown",
      "source": [
        "###Arithmetic Operator\n",
        "Addition +\\\n",
        "Substraction -\\\n",
        "Multiplication * \\\n",
        "Division /\\\n",
        "Modulus %\\\n",
        "Exponentiation **\\\n",
        "Floor Division //\n"
      ],
      "metadata": {
        "id": "Sl6qECzUoJfd"
      }
    },
    {
      "cell_type": "code",
      "source": [
        "num1=10\n",
        "num2=3\n",
        "print(num1+num2)\n",
        "print(num1-num2)\n",
        "print(num1*num2)\n",
        "print(num1/num2)\n",
        "print(num1%num2)\n",
        "print(num1**num2)\n",
        "print(num1//num2)\n",
        "\n"
      ],
      "metadata": {
        "colab": {
          "base_uri": "https://localhost:8080/"
        },
        "id": "hnrLIW6Zo7sL",
        "outputId": "4d0d3226-a2d0-40be-c8c3-65bb4eb62d95"
      },
      "execution_count": null,
      "outputs": [
        {
          "output_type": "stream",
          "name": "stdout",
          "text": [
            "13\n",
            "7\n",
            "30\n",
            "3.3333333333333335\n",
            "1\n",
            "1000\n",
            "3\n"
          ]
        }
      ]
    },
    {
      "cell_type": "markdown",
      "source": [
        "### Comparison Operator"
      ],
      "metadata": {
        "id": "ibY-MbLRqEQt"
      }
    },
    {
      "cell_type": "code",
      "source": [
        "3==3"
      ],
      "metadata": {
        "colab": {
          "base_uri": "https://localhost:8080/"
        },
        "id": "-iTwULUTqBAt",
        "outputId": "73bf21ff-65fe-454a-a19f-7d8e30ca224a"
      },
      "execution_count": null,
      "outputs": [
        {
          "output_type": "execute_result",
          "data": {
            "text/plain": [
              "True"
            ]
          },
          "metadata": {},
          "execution_count": 72
        }
      ]
    },
    {
      "cell_type": "code",
      "source": [
        "3<4"
      ],
      "metadata": {
        "colab": {
          "base_uri": "https://localhost:8080/"
        },
        "id": "CgW4iGIYqQ28",
        "outputId": "7e5756a3-99d2-4f62-8851-2d0f5a519b8e"
      },
      "execution_count": null,
      "outputs": [
        {
          "output_type": "execute_result",
          "data": {
            "text/plain": [
              "True"
            ]
          },
          "metadata": {},
          "execution_count": 73
        }
      ]
    },
    {
      "cell_type": "code",
      "source": [
        "3>4"
      ],
      "metadata": {
        "colab": {
          "base_uri": "https://localhost:8080/"
        },
        "id": "aQeHsi6jqUmB",
        "outputId": "72c8adda-0a11-43cc-ad44-e98fc0b33642"
      },
      "execution_count": null,
      "outputs": [
        {
          "output_type": "execute_result",
          "data": {
            "text/plain": [
              "False"
            ]
          },
          "metadata": {},
          "execution_count": 74
        }
      ]
    },
    {
      "cell_type": "code",
      "source": [
        "3!=4"
      ],
      "metadata": {
        "colab": {
          "base_uri": "https://localhost:8080/"
        },
        "id": "dpAY6mEKqYSP",
        "outputId": "624be536-6bcc-4bce-d2a8-33d83afd9bd3"
      },
      "execution_count": null,
      "outputs": [
        {
          "output_type": "execute_result",
          "data": {
            "text/plain": [
              "True"
            ]
          },
          "metadata": {},
          "execution_count": 75
        }
      ]
    },
    {
      "cell_type": "code",
      "source": [
        "3<=4\n"
      ],
      "metadata": {
        "colab": {
          "base_uri": "https://localhost:8080/"
        },
        "id": "P3B49M3uqfRW",
        "outputId": "9c74827d-d690-45a8-a3b0-c349db9eea02"
      },
      "execution_count": null,
      "outputs": [
        {
          "output_type": "execute_result",
          "data": {
            "text/plain": [
              "True"
            ]
          },
          "metadata": {},
          "execution_count": 76
        }
      ]
    },
    {
      "cell_type": "code",
      "source": [
        "3>=4"
      ],
      "metadata": {
        "colab": {
          "base_uri": "https://localhost:8080/"
        },
        "id": "nFaV_nasqkl-",
        "outputId": "7a2e3c95-6ce4-47d6-de10-89ea02cb939e"
      },
      "execution_count": null,
      "outputs": [
        {
          "output_type": "execute_result",
          "data": {
            "text/plain": [
              "False"
            ]
          },
          "metadata": {},
          "execution_count": 77
        }
      ]
    },
    {
      "cell_type": "markdown",
      "source": [
        "### Logical Operator"
      ],
      "metadata": {
        "id": "ssT_p5H2q1rL"
      }
    },
    {
      "cell_type": "code",
      "source": [
        "print(True or False)"
      ],
      "metadata": {
        "colab": {
          "base_uri": "https://localhost:8080/"
        },
        "id": "sx6Hz_Mhq58o",
        "outputId": "3788e492-4fbe-42ff-d713-874625a2e9d9"
      },
      "execution_count": null,
      "outputs": [
        {
          "output_type": "stream",
          "name": "stdout",
          "text": [
            "True\n"
          ]
        }
      ]
    },
    {
      "cell_type": "code",
      "source": [
        "print(True and False)"
      ],
      "metadata": {
        "colab": {
          "base_uri": "https://localhost:8080/"
        },
        "id": "o1HGWRRArJeF",
        "outputId": "5b345167-aabf-4d48-ff21-89ed87936cad"
      },
      "execution_count": null,
      "outputs": [
        {
          "output_type": "stream",
          "name": "stdout",
          "text": [
            "False\n"
          ]
        }
      ]
    },
    {
      "cell_type": "code",
      "source": [
        "print( not False)"
      ],
      "metadata": {
        "colab": {
          "base_uri": "https://localhost:8080/"
        },
        "id": "C8DmN3KLrTDp",
        "outputId": "810ab5dd-57f0-4864-df88-a268f2148aa1"
      },
      "execution_count": null,
      "outputs": [
        {
          "output_type": "stream",
          "name": "stdout",
          "text": [
            "True\n"
          ]
        }
      ]
    },
    {
      "cell_type": "markdown",
      "source": [
        "### Membership Operator"
      ],
      "metadata": {
        "id": "BeJu-JrhrfV0"
      }
    },
    {
      "cell_type": "code",
      "source": [
        "# In\n",
        "print(2 in [1,2,3,4,5])"
      ],
      "metadata": {
        "colab": {
          "base_uri": "https://localhost:8080/"
        },
        "id": "2dohz-IGrkiZ",
        "outputId": "2659f870-78a0-46b7-a834-00d85dba148b"
      },
      "execution_count": null,
      "outputs": [
        {
          "output_type": "stream",
          "name": "stdout",
          "text": [
            "True\n"
          ]
        }
      ]
    },
    {
      "cell_type": "code",
      "source": [
        "print(2 in [1,3,4,6,5,7])"
      ],
      "metadata": {
        "colab": {
          "base_uri": "https://localhost:8080/"
        },
        "id": "MGqUZ7agrkch",
        "outputId": "1d9d2c57-a217-4cb4-900e-bf1594e6e3df"
      },
      "execution_count": null,
      "outputs": [
        {
          "output_type": "stream",
          "name": "stdout",
          "text": [
            "False\n"
          ]
        }
      ]
    },
    {
      "cell_type": "code",
      "source": [
        "print(8 not in[1,3,5,6,7,8,9,2,20])"
      ],
      "metadata": {
        "colab": {
          "base_uri": "https://localhost:8080/"
        },
        "id": "wPdxijYosBS7",
        "outputId": "4e1aaa1f-ece6-40fb-f235-9ce756a3f7ab"
      },
      "execution_count": null,
      "outputs": [
        {
          "output_type": "stream",
          "name": "stdout",
          "text": [
            "False\n"
          ]
        }
      ]
    },
    {
      "cell_type": "code",
      "source": [
        "print(8 not in[1,3,5,6,7,9,2,20])"
      ],
      "metadata": {
        "colab": {
          "base_uri": "https://localhost:8080/"
        },
        "id": "gpgq2V6vskvv",
        "outputId": "5f0ed407-869e-45cc-a535-cf506bf7e0fc"
      },
      "execution_count": null,
      "outputs": [
        {
          "output_type": "stream",
          "name": "stdout",
          "text": [
            "True\n"
          ]
        }
      ]
    },
    {
      "cell_type": "markdown",
      "source": [
        "### Identity Operator"
      ],
      "metadata": {
        "id": "qB3WgkikswV3"
      }
    },
    {
      "cell_type": "code",
      "source": [
        "# is\n",
        "a=8\n",
        "b=7\n",
        "print(a is b)\n",
        "c=8\n",
        "print(a is c)"
      ],
      "metadata": {
        "colab": {
          "base_uri": "https://localhost:8080/"
        },
        "id": "IcbZNMAus0s2",
        "outputId": "e0af7369-a9f7-4132-e3f2-e033f247853c"
      },
      "execution_count": null,
      "outputs": [
        {
          "output_type": "stream",
          "name": "stdout",
          "text": [
            "False\n",
            "True\n"
          ]
        }
      ]
    },
    {
      "cell_type": "code",
      "source": [
        "# is Not\n",
        "print(a is not b)"
      ],
      "metadata": {
        "colab": {
          "base_uri": "https://localhost:8080/"
        },
        "id": "3EeM7OBdtXgp",
        "outputId": "6d3c4fad-34d0-4724-8417-eb5648962b9b"
      },
      "execution_count": null,
      "outputs": [
        {
          "output_type": "stream",
          "name": "stdout",
          "text": [
            "True\n"
          ]
        }
      ]
    },
    {
      "cell_type": "code",
      "source": [
        "message=input(\"Enter greeting message\")+\"\\n\"\n",
        "print(message*5)\n"
      ],
      "metadata": {
        "colab": {
          "base_uri": "https://localhost:8080/"
        },
        "id": "GTlWpAJBt-BQ",
        "outputId": "ed3d8575-1977-4aba-b3ef-5be10fa01d3e"
      },
      "execution_count": null,
      "outputs": [
        {
          "output_type": "stream",
          "name": "stdout",
          "text": [
            "Enter greeting messageHello all\n",
            "Hello all\n",
            "Hello all\n",
            "Hello all\n",
            "Hello all\n",
            "Hello all\n",
            "\n"
          ]
        }
      ]
    },
    {
      "cell_type": "markdown",
      "source": [
        "### *Indexing*"
      ],
      "metadata": {
        "id": "JBBOQmqtui3y"
      }
    },
    {
      "cell_type": "code",
      "source": [
        "greeting=\"Congratulation\"\n",
        "print(greeting[0])\n",
        "print(greeting[1])\n",
        "print(greeting[3])\n",
        "print(greeting[0:6])\n",
        "print(greeting[0:3:1])\n",
        "print(greeting[7])\n",
        "print(greeting[0:8:2])\n",
        "print(greeting[-1::-2])\n",
        "\n"
      ],
      "metadata": {
        "colab": {
          "base_uri": "https://localhost:8080/"
        },
        "id": "T6VzajIivATX",
        "outputId": "d99ab75d-0528-4b4c-9f93-eb0bd739c408"
      },
      "execution_count": null,
      "outputs": [
        {
          "output_type": "stream",
          "name": "stdout",
          "text": [
            "C\n",
            "o\n",
            "g\n",
            "Congra\n",
            "Con\n",
            "u\n",
            "Cnrt\n",
            "niauago\n"
          ]
        }
      ]
    },
    {
      "cell_type": "code",
      "source": [
        "#Split\n",
        "message='My name i S'\n",
        "print(message.split())\n",
        "print(message.split()[0])\n",
        "print(message.split()[0::-1])\n"
      ],
      "metadata": {
        "colab": {
          "base_uri": "https://localhost:8080/"
        },
        "id": "fiFVr88QxC68",
        "outputId": "d973cb29-2ae2-43ce-b3ba-78c46147dbfe"
      },
      "execution_count": null,
      "outputs": [
        {
          "output_type": "stream",
          "name": "stdout",
          "text": [
            "['My', 'name', 'i', 'S']\n",
            "My\n",
            "['My']\n"
          ]
        }
      ]
    },
    {
      "cell_type": "code",
      "source": [
        "# Palindrome\n",
        "word= input(\"Enter Word :\")\n",
        "pal= word[::-1]\n",
        "pal==word"
      ],
      "metadata": {
        "colab": {
          "base_uri": "https://localhost:8080/"
        },
        "id": "1U1jfZxOx9of",
        "outputId": "38645bc2-3407-4b85-b1b6-71751142d61b"
      },
      "execution_count": null,
      "outputs": [
        {
          "name": "stdout",
          "output_type": "stream",
          "text": [
            "Enter Word :malayalam\n"
          ]
        },
        {
          "output_type": "execute_result",
          "data": {
            "text/plain": [
              "True"
            ]
          },
          "metadata": {},
          "execution_count": 99
        }
      ]
    },
    {
      "cell_type": "code",
      "source": [
        "word=['zero','one','two','three','four','five','six','seven','eight','nine','ten']\n",
        "number=int(input(\"Enter the Number: \"))\n",
        "print(word[number])"
      ],
      "metadata": {
        "colab": {
          "base_uri": "https://localhost:8080/"
        },
        "id": "us6gv5b5zeI-",
        "outputId": "615cb49e-1969-4afd-e86b-441923216009"
      },
      "execution_count": null,
      "outputs": [
        {
          "output_type": "stream",
          "name": "stdout",
          "text": [
            "Enter the Number: 5\n",
            "five\n"
          ]
        }
      ]
    },
    {
      "cell_type": "code",
      "source": [
        "word=['zero','one','two','three','four','five','six','seven','eight','nine']\n",
        "otp=input(\"Enter OTP\")\n",
        "print(word[int(otp[0])],word[int(otp[1])],word[int(otp[2])],word[int(otp[3])])\n"
      ],
      "metadata": {
        "colab": {
          "base_uri": "https://localhost:8080/"
        },
        "id": "rryeaxtH1K_0",
        "outputId": "63a1285e-f786-4af9-b3c9-7f804f028354"
      },
      "execution_count": null,
      "outputs": [
        {
          "output_type": "stream",
          "name": "stdout",
          "text": [
            "Enter OTP1234\n",
            "one two three four\n"
          ]
        }
      ]
    },
    {
      "cell_type": "code",
      "source": [
        "list(\"Hello\")"
      ],
      "metadata": {
        "colab": {
          "base_uri": "https://localhost:8080/"
        },
        "id": "_1ZhRiCp3gTP",
        "outputId": "fc033856-833c-44bf-de02-007f89634f05"
      },
      "execution_count": null,
      "outputs": [
        {
          "output_type": "execute_result",
          "data": {
            "text/plain": [
              "['H', 'e', 'l', 'l', 'o']"
            ]
          },
          "metadata": {},
          "execution_count": 109
        }
      ]
    },
    {
      "cell_type": "code",
      "source": [
        "word=input(\"Enter Number In Words : \").split()\n",
        "num={'zero':0,'one':1,'two':2,'three':3,'four':4,'five':5,'six':6,'seven':7,'eight':8,'nine':9}\n",
        "print(num[word[0]],num[word[1]],num[word[2]],num[word[3]])\n"
      ],
      "metadata": {
        "colab": {
          "base_uri": "https://localhost:8080/"
        },
        "id": "-9zvYJUy3gP2",
        "outputId": "bf0f26c0-0092-4360-a2aa-316bd5aedb18"
      },
      "execution_count": null,
      "outputs": [
        {
          "output_type": "stream",
          "name": "stdout",
          "text": [
            "Enter your digit: seven five two four\n",
            "7 5 2 4\n"
          ]
        }
      ]
    },
    {
      "cell_type": "code",
      "source": [
        "['a,b,c'] + ['d']"
      ],
      "metadata": {
        "colab": {
          "base_uri": "https://localhost:8080/"
        },
        "id": "SipvuFbyPtBu",
        "outputId": "7a0c0ec1-b3d1-4694-b737-9bebcd9f21bd"
      },
      "execution_count": null,
      "outputs": [
        {
          "output_type": "execute_result",
          "data": {
            "text/plain": [
              "['a,b,c', 'd']"
            ]
          },
          "metadata": {},
          "execution_count": 2
        }
      ]
    }
  ]
}