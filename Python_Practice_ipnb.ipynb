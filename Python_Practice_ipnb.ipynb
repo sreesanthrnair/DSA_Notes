{
  "nbformat": 4,
  "nbformat_minor": 0,
  "metadata": {
    "colab": {
      "provenance": [],
      "authorship_tag": "ABX9TyNDWVcL9JXUj6CCfzHbbpmn",
      "include_colab_link": true
    },
    "kernelspec": {
      "name": "python3",
      "display_name": "Python 3"
    },
    "language_info": {
      "name": "python"
    }
  },
  "cells": [
    {
      "cell_type": "markdown",
      "metadata": {
        "id": "view-in-github",
        "colab_type": "text"
      },
      "source": [
        "<a href=\"https://colab.research.google.com/github/sreesanthrnair/DSA_Notes/blob/main/Python_Practice_ipnb.ipynb\" target=\"_parent\"><img src=\"https://colab.research.google.com/assets/colab-badge.svg\" alt=\"Open In Colab\"/></a>"
      ]
    },
    {
      "cell_type": "code",
      "execution_count": null,
      "metadata": {
        "colab": {
          "base_uri": "https://localhost:8080/"
        },
        "id": "Y0mq2CCH_eA8",
        "outputId": "8ab20479-8803-4952-ab97-171d197ac1b9"
      },
      "outputs": [
        {
          "output_type": "stream",
          "name": "stdout",
          "text": [
            "Step:1 - > Take water in a kettle\n",
            "Step:2 - > Boil the water\n",
            "Step:3 - > Add tea leaves\n",
            "Step:4 - > Add sugar\n",
            "Step:5 - > Add milk\n",
            "Step:6 - > Stir and boil\n",
            "Step:7 - > Strain into a cup\n",
            "Step:8 - > Tea is ready\n"
          ]
        }
      ],
      "source": [
        "# 1 How to make tea\n",
        "print('Step:1 - > Take water in a kettle')\n",
        "print('Step:2 - > Boil the water')\n",
        "print('Step:3 - > Add tea leaves')\n",
        "print('Step:4 - > Add sugar')\n",
        "print('Step:5 - > Add milk')\n",
        "print('Step:6 - > Stir and boil')\n",
        "print('Step:7 - > Strain into a cup')\n",
        "print('Step:8 - > Tea is ready')\n"
      ]
    },
    {
      "cell_type": "code",
      "source": [
        "# How to wear shoes\n",
        "print('Step:1 - > Sit down on a chair.')\n",
        "print('Step:2 - > Take a pair of socks.')\n",
        "print('Step:3 - > Wear socks on both feet.')\n",
        "print('Step:4 - > Take the left shoe and wear it.')\n",
        "print('Step:5 - > Take the right shoe and wear it.')\n",
        "print('Step:6 - > Tie the laces properly (or fasten straps).')\n",
        "print('Step:7 - > Stand up and check if shoes fit properly.')"
      ],
      "metadata": {
        "colab": {
          "base_uri": "https://localhost:8080/"
        },
        "id": "hEbMtq_nCj9V",
        "outputId": "620fee10-e360-4ad0-de38-0ca78ca92a15"
      },
      "execution_count": null,
      "outputs": [
        {
          "output_type": "stream",
          "name": "stdout",
          "text": [
            "Step:1 - > Sit down on a chair.\n",
            "Step:2 - > Take a pair of socks.\n",
            "Step:3 - > Wear socks on both feet.\n",
            "Step:4 - > Take the left shoe and wear it.\n",
            "Step:5 - > Take the right shoe and wear it.\n",
            "Step:6 - > Tie the laces properly (or fasten straps).\n",
            "Step:7 - > Stand up and check if shoes fit properly.\n"
          ]
        }
      ]
    },
    {
      "cell_type": "code",
      "source": [
        "# How to Send a WhatsApp Message\n",
        "print('Step:1 - > Unlock your phone.')\n",
        "print('Step:2 - > Open the WhatsApp application.')\n",
        "print('Step:3 - > Search for the contact or select from chat list.')\n",
        "print('Step:4 - > Tap on the chat box.')\n",
        "print('Step:5 - > Type your message.')\n",
        "print('Step:6 - > Press the send button.')\n",
        "print('Step:7 - > Message delivered successfully.')"
      ],
      "metadata": {
        "colab": {
          "base_uri": "https://localhost:8080/"
        },
        "id": "q34ShRJSDjDF",
        "outputId": "208388e3-96cb-469f-cf2c-06fae4f901fa"
      },
      "execution_count": null,
      "outputs": [
        {
          "output_type": "stream",
          "name": "stdout",
          "text": [
            "Step:1 - > Unlock your phone.\n",
            "Step:2 - > Open the WhatsApp application.\n",
            "Step:3 - > Search for the contact or select from chat list.\n",
            "Step:4 - > Tap on the chat box.\n",
            "Step:5 - > Type your message.\n",
            "Step:6 - > Press the send button.\n",
            "Step:7 - > Message delivered successfully.\n"
          ]
        }
      ]
    },
    {
      "cell_type": "code",
      "source": [
        "# 2. assign a name for each item → and  write down the cost of it, Guess the type (int, float, string) for different values.\n",
        "rice=200\n",
        "sugar=60\n",
        "milk=40.5\n",
        "oil=120\n",
        "egg='75'\n",
        "print(type(egg))\n"
      ],
      "metadata": {
        "colab": {
          "base_uri": "https://localhost:8080/"
        },
        "id": "X3fMvw1nFZ8X",
        "outputId": "e201565e-9b3a-4a03-f8c1-c324a5549343"
      },
      "execution_count": null,
      "outputs": [
        {
          "output_type": "stream",
          "name": "stdout",
          "text": [
            "<class 'str'>\n"
          ]
        }
      ]
    },
    {
      "cell_type": "code",
      "source": [
        "# list out 5 items. Then find the total cost.\n",
        "rice=200\n",
        "sugar=60\n",
        "milk=40.5\n",
        "oil=120\n",
        "egg=75\n",
        "sum=200+60+40.5+120+75\n",
        "total=sum\n",
        "print(f'Total cost of the items:{total}')"
      ],
      "metadata": {
        "colab": {
          "base_uri": "https://localhost:8080/"
        },
        "id": "BDKR-r7EN_Pw",
        "outputId": "4601771f-a282-4ff9-e29a-7cd82435b445"
      },
      "execution_count": null,
      "outputs": [
        {
          "output_type": "stream",
          "name": "stdout",
          "text": [
            "Total cost of the items:495.5\n"
          ]
        }
      ]
    },
    {
      "cell_type": "code",
      "source": [
        "# 3. If it rains, we take an umbrella, otherwise we wear sunglasses.\n",
        "weather=input('Enter current weather : ')\n",
        "a='rain'\n",
        "if(weather==a):\n",
        "  print('Use your umbrella !')\n",
        "else:\n",
        "  print('Wear your sun glass')"
      ],
      "metadata": {
        "colab": {
          "base_uri": "https://localhost:8080/"
        },
        "id": "CCcsvHcgQwc2",
        "outputId": "3dba053a-2cdc-493d-e45f-722864851cca"
      },
      "execution_count": null,
      "outputs": [
        {
          "output_type": "stream",
          "name": "stdout",
          "text": [
            "Enter current weather : winter\n",
            "Wear your sun glass\n"
          ]
        }
      ]
    },
    {
      "cell_type": "code",
      "source": [
        "# If your marks are 40 or more, you pass, otherwise you fail.Check if a student passed (marks ≥ 40)\n",
        "mark=int(input('Enter your mark : '))\n",
        "if(mark>=40):\n",
        "  print('You Passed !')\n",
        "else:\n",
        "  print('You Failed !')"
      ],
      "metadata": {
        "colab": {
          "base_uri": "https://localhost:8080/"
        },
        "id": "jqvoUR4QWeGo",
        "outputId": "a81d47ea-20e4-4498-8ee1-06dea9699596"
      },
      "execution_count": null,
      "outputs": [
        {
          "output_type": "stream",
          "name": "stdout",
          "text": [
            "Enter your mark : 12\n",
            "You Failed !\n"
          ]
        }
      ]
    },
    {
      "cell_type": "code",
      "source": [
        "# If your shopping bill is greater than ₹500, you get a 10% discount.Discount logic: If bill > 500 → give 10% off\n",
        "bill=int(input('Enter the total Amount : '))\n",
        "if(bill>=500):\n",
        "  discount=0.1*bill\n",
        "  total=bill-discount\n",
        "  print(f'You got 10% of discount, Total bill you have to pay only {total}')\n",
        "else:\n",
        "  print(f'Total bill you have to pay {bill}')"
      ],
      "metadata": {
        "colab": {
          "base_uri": "https://localhost:8080/"
        },
        "id": "SStqq5XrW4Bt",
        "outputId": "19a7d5ad-46b9-4203-9f71-e7c21242215f"
      },
      "execution_count": null,
      "outputs": [
        {
          "output_type": "stream",
          "name": "stdout",
          "text": [
            "Enter the total Amount : 200\n",
            "Total bill you have to pay 200\n"
          ]
        }
      ]
    },
    {
      "cell_type": "code",
      "source": [
        "# If temperature is greater than 30 → Print \"Too hot!\"\n",
        "Else → Print \"Nice weather!\"\n",
        "tem_count=int(input('Enter the temperature count: '))\n",
        "if(tem_count>=30):\n",
        "  print('Too Hot !')\n",
        "else:\n",
        "  print('Nice weather!')"
      ],
      "metadata": {
        "colab": {
          "base_uri": "https://localhost:8080/"
        },
        "id": "AfzIQqqSasUg",
        "outputId": "1bf16d6e-23c9-4ffe-82e4-f61d13244735"
      },
      "execution_count": null,
      "outputs": [
        {
          "output_type": "stream",
          "name": "stdout",
          "text": [
            "Enter the temperature count: 20\n",
            "Nice weather!\n"
          ]
        }
      ]
    },
    {
      "cell_type": "code",
      "source": [
        "# If age < 13 → Print \"Child\" if age between 13 and 19 → Print \"Teenager\" Else → Print \"Adult\"\n",
        "age=int(input('Enter the age: '))\n",
        "if(age<13):\n",
        "  print('Child')\n",
        "elif(age>=13 and age<19):\n",
        "  print('Teenager')\n",
        "else:\n",
        "  print('Adult')"
      ],
      "metadata": {
        "colab": {
          "base_uri": "https://localhost:8080/"
        },
        "id": "rCgYUwbLbVFT",
        "outputId": "4adfff4c-5044-47d2-e420-aa05113705f8"
      },
      "execution_count": null,
      "outputs": [
        {
          "output_type": "stream",
          "name": "stdout",
          "text": [
            "Enter the age: 15\n",
            "Teenager\n"
          ]
        }
      ]
    },
    {
      "cell_type": "code",
      "source": [
        "#Exam Grades Marks ≥ 90 → Grade A Marks ≥ 75 → Grade B Marks ≥ 50 → Grade C Else → Fail\n",
        "mark=int(input('Enter the Mark: '))\n",
        "if(mark>=90):\n",
        "  print('A Grade')\n",
        "elif(mark>=75):\n",
        "  print('B Grade')\n",
        "elif(mark>=50):\n",
        "  print('C Grade')\n",
        "else:\n",
        "  print('Fail')"
      ],
      "metadata": {
        "colab": {
          "base_uri": "https://localhost:8080/"
        },
        "id": "CTu1AP8pb7_z",
        "outputId": "b8b60661-718e-48d9-f0fa-1dc2b2842384"
      },
      "execution_count": null,
      "outputs": [
        {
          "output_type": "stream",
          "name": "stdout",
          "text": [
            "Enter the Mark: 40\n",
            "Fail\n"
          ]
        }
      ]
    },
    {
      "cell_type": "code",
      "source": [
        "# Write down multiplication table for a number.Use python code to print the table. With Forloop\n",
        "num=int(input('Enter which multipliation table you want :'))\n",
        "for i in range(1,11):\n",
        "  rslt=i*num\n",
        "  print(f'{i} * {num} =  {rslt}')\n",
        "  i=i+1\n",
        "print(f'The multiplication table of {num} is completed:')\n"
      ],
      "metadata": {
        "colab": {
          "base_uri": "https://localhost:8080/"
        },
        "id": "1NI1wbHqgVci",
        "outputId": "66bd5384-152c-414b-91ca-cc807f8c741b"
      },
      "execution_count": null,
      "outputs": [
        {
          "output_type": "stream",
          "name": "stdout",
          "text": [
            "Enter which multipliation table you want :5\n",
            "1 * 5 =  5\n",
            "2 * 5 =  10\n",
            "3 * 5 =  15\n",
            "4 * 5 =  20\n",
            "5 * 5 =  25\n",
            "6 * 5 =  30\n",
            "7 * 5 =  35\n",
            "8 * 5 =  40\n",
            "9 * 5 =  45\n",
            "10 * 5 =  50\n",
            "The multiplication table of 5 is completed:\n"
          ]
        }
      ]
    },
    {
      "cell_type": "code",
      "source": [
        "# Write down multiplication table for a number.Use python code to print the table. Without Forloop, Using While loop\n",
        "mul=int(input('Enter the number you want to multiply : '))\n",
        "i=1\n",
        "while i<=10:\n",
        "  rslt=i*mul\n",
        "  print(f'{i} * {mul} = {rslt}')\n",
        "  i=i+1\n",
        "print(f'The Multiplication table of {mul} is completed !')"
      ],
      "metadata": {
        "colab": {
          "base_uri": "https://localhost:8080/"
        },
        "id": "2SlEUzMMoMNK",
        "outputId": "ae89c1bb-a58e-4ec4-8344-c9360747b8f3"
      },
      "execution_count": null,
      "outputs": [
        {
          "output_type": "stream",
          "name": "stdout",
          "text": [
            "Enter the number you want to multiply : 8\n",
            "1 * 8 = 8\n",
            "2 * 8 = 16\n",
            "3 * 8 = 24\n",
            "4 * 8 = 32\n",
            "5 * 8 = 40\n",
            "6 * 8 = 48\n",
            "7 * 8 = 56\n",
            "8 * 8 = 64\n",
            "9 * 8 = 72\n",
            "10 * 8 = 80\n",
            "The Multiplication table of 8 is completed !\n"
          ]
        }
      ]
    },
    {
      "cell_type": "code",
      "source": [
        "# Write down even numbers from 0 to 20\n",
        "print('Even numbers from 0 to 20')\n",
        "for i in range (0,21,2):\n",
        "  print(i)"
      ],
      "metadata": {
        "colab": {
          "base_uri": "https://localhost:8080/"
        },
        "id": "SCJi-ZNrsgGg",
        "outputId": "163def47-38c8-45dd-d4fd-45ae19b0c709"
      },
      "execution_count": null,
      "outputs": [
        {
          "output_type": "stream",
          "name": "stdout",
          "text": [
            "Even numbers from 0 to 20\n",
            "0\n",
            "2\n",
            "4\n",
            "6\n",
            "8\n",
            "10\n",
            "12\n",
            "14\n",
            "16\n",
            "18\n",
            "20\n"
          ]
        }
      ]
    },
    {
      "cell_type": "code",
      "source": [
        "# You are sharing chocolates with your friends. After giving it to everyone , you write it down like \" Chocolate given to <Friend name>\"\n",
        "friends_list=['Sreesanth','Nikhil','Saketh']\n",
        "for i in (friends_list):\n",
        "  print(f'Chocolate given to {i}')"
      ],
      "metadata": {
        "colab": {
          "base_uri": "https://localhost:8080/"
        },
        "id": "wYrAf3X0uEFS",
        "outputId": "bc7a6f2e-9039-47c9-ec58-c968769bb2f1"
      },
      "execution_count": null,
      "outputs": [
        {
          "output_type": "stream",
          "name": "stdout",
          "text": [
            "Chocolate given to Sreesanth\n",
            "Chocolate given to Nikhil\n",
            "Chocolate given to Saketh\n"
          ]
        }
      ]
    },
    {
      "cell_type": "code",
      "source": [
        "# Student marks list → find highest manually.\n",
        "mark_list=[45,78,54,64,89,71]\n",
        "max_mark=mark_list[0]\n",
        "for mark in mark_list:\n",
        " if(mark>max_mark):\n",
        "    max_mark=mark\n",
        "print(f'Highest mark is {max_mark}')\n",
        "\n",
        "\n"
      ],
      "metadata": {
        "colab": {
          "base_uri": "https://localhost:8080/"
        },
        "id": "6VZDet_cxPHR",
        "outputId": "560fc179-7356-4690-ffdc-e7d44e4b7b44"
      },
      "execution_count": null,
      "outputs": [
        {
          "output_type": "stream",
          "name": "stdout",
          "text": [
            "Highest mark is 89\n"
          ]
        }
      ]
    },
    {
      "cell_type": "code",
      "source": [
        "max(mark_list)"
      ],
      "metadata": {
        "colab": {
          "base_uri": "https://localhost:8080/"
        },
        "id": "kebJ16yBg8vM",
        "outputId": "2ab9edc0-836b-4b77-a89e-8c8553437bd6"
      },
      "execution_count": null,
      "outputs": [
        {
          "output_type": "execute_result",
          "data": {
            "text/plain": [
              "89"
            ]
          },
          "metadata": {},
          "execution_count": 7
        }
      ]
    },
    {
      "cell_type": "code",
      "source": [
        "# Cricket scores dictionary → find player with max score without function\n",
        "scores={'Dhoni': 70,'Sachin': 80,'Virat':67,'Rohit': 71,'Hardhik':76}\n",
        "max_score=0\n",
        "max_player=None\n",
        "for player, value in scores.items():\n",
        "  if value>max_score:\n",
        "    max_score=value\n",
        "    max_player=player\n",
        "print(f'Highest Scorer {max_player} and his score is {max_score}')"
      ],
      "metadata": {
        "id": "5kAusfunihPT",
        "colab": {
          "base_uri": "https://localhost:8080/"
        },
        "outputId": "a8262a9e-6ec0-4d15-bb39-f758e8d8b0be"
      },
      "execution_count": null,
      "outputs": [
        {
          "output_type": "stream",
          "name": "stdout",
          "text": [
            "Highest Scorer Sachin and his score is 80\n"
          ]
        }
      ]
    },
    {
      "cell_type": "code",
      "source": [
        "# # Cricket scores dictionary → find player with max score with function\n",
        "# score=scores={'Dhoni': 70,'Sachin': 80,'Virat':67,'Rohit': 71,'Hardhik':76}\n",
        "# max_player=max(score, key=scores.get)\n",
        "# print(f'Highest scorer is {max_player} and hist score is {scores[max_player]}')"
      ],
      "metadata": {
        "colab": {
          "base_uri": "https://localhost:8080/"
        },
        "id": "-Ghl9KKJyxjq",
        "outputId": "8dd8bfc9-6031-4991-f6e3-99ea0415c625"
      },
      "execution_count": null,
      "outputs": [
        {
          "output_type": "stream",
          "name": "stdout",
          "text": [
            "Highest scorer is Sachin and hist score is 80\n"
          ]
        }
      ]
    },
    {
      "cell_type": "code",
      "source": [
        "# Cricket scores dictionary → find player with max score with function\n",
        "scores={'Dhoni': 70,'Sachin': 80,'Virat':67,'Rohit': 71,'Hardhik':76}\n",
        "highest=max(scores,key=scores.get)\n",
        "minimum=min(scores,key=scores.get)\n",
        "print(f'Highest score is {highest } with {scores[highest]}')\n",
        "#print(f'Highest score is {minimum} with {scores[minimum]}')"
      ],
      "metadata": {
        "colab": {
          "base_uri": "https://localhost:8080/"
        },
        "id": "1xtrwdTV1L20",
        "outputId": "382c8f51-ba11-45a3-fd94-0e8902d72ddf"
      },
      "execution_count": null,
      "outputs": [
        {
          "output_type": "stream",
          "name": "stdout",
          "text": [
            "Highest score is Sachin with 80\n"
          ]
        }
      ]
    },
    {
      "cell_type": "code",
      "source": [
        "# Function to calculate area of a rectangle.\n",
        "def rectangle_area():\n",
        "  length=int(input('Enter the Length of the rectangle: '))\n",
        "  width=int(input('Enter the Width of the rectangle: '))\n",
        "  area=length*width\n",
        "  print(f'The length of the rectagle is {area}')\n",
        "rectangle_area()"
      ],
      "metadata": {
        "colab": {
          "base_uri": "https://localhost:8080/"
        },
        "id": "1MhW-umL4jxk",
        "outputId": "ce818266-4a55-48b6-831a-2a0a4fa69ae2"
      },
      "execution_count": null,
      "outputs": [
        {
          "output_type": "stream",
          "name": "stdout",
          "text": [
            "Enter the Length of the rectangle: 5\n",
            "Enter the Width of the rectangle: 3\n",
            "The length of the rectagle is 15\n"
          ]
        }
      ]
    },
    {
      "cell_type": "code",
      "source": [
        "# Function to check if a number is even or odd.\n",
        "def Odd_Even():\n",
        "  num=int(input('Enter the Number : '))\n",
        "  if(num % 2 == 0):\n",
        "    print(f'{num} is Even.')\n",
        "  else:\n",
        "    print(f'{num} is Odd.')\n",
        "Odd_Even()"
      ],
      "metadata": {
        "colab": {
          "base_uri": "https://localhost:8080/"
        },
        "id": "HH8ZuZFM56V1",
        "outputId": "1d4b8513-ca50-4fc1-d387-89a478e5807e"
      },
      "execution_count": null,
      "outputs": [
        {
          "output_type": "stream",
          "name": "stdout",
          "text": [
            "Enter the Number : 7\n",
            "7 is Odd.\n"
          ]
        }
      ]
    },
    {
      "cell_type": "code",
      "source": [
        "# Function that returns the square of a number.\n",
        "def Square():\n",
        "  num=int(input('Enter the Number : '))\n",
        "  return num*num\n",
        "result=Square()\n",
        "print(f'The square  is {result}')\n"
      ],
      "metadata": {
        "colab": {
          "base_uri": "https://localhost:8080/"
        },
        "id": "oNEvlJ167xM9",
        "outputId": "35b2e59e-7c0b-4981-9762-ed7a012631eb"
      },
      "execution_count": null,
      "outputs": [
        {
          "output_type": "stream",
          "name": "stdout",
          "text": [
            "Enter the Number : 4\n",
            "The square  is 16\n"
          ]
        }
      ]
    },
    {
      "cell_type": "code",
      "source": [
        "# Count vowels in a string.\n",
        "my_list=['a','e','i','o','u']\n",
        "string=input('Enter a string: ')\n",
        "new_list=[]\n",
        "count=0\n",
        "for i in string:\n",
        "  if(i in my_list):\n",
        "    count=count+1\n",
        "    new_list.append(i)\n",
        "print(f'The total count of vowels {count}')\n",
        "print(f'The found {new_list}')"
      ],
      "metadata": {
        "colab": {
          "base_uri": "https://localhost:8080/"
        },
        "id": "Duqpr4_bBhrV",
        "outputId": "8b1f76da-ac84-4db5-e445-c68fa8986be7"
      },
      "execution_count": null,
      "outputs": [
        {
          "output_type": "stream",
          "name": "stdout",
          "text": [
            "Enter a string: sreesanth\n",
            "The total count of vowels 3\n",
            "The found ['e', 'e', 'a']\n"
          ]
        }
      ]
    },
    {
      "cell_type": "code",
      "source": [
        "# Reverse a string without using slicing.\n",
        "string=input('Enter a string : ')\n",
        "rev_string=''\n",
        "for i in string:\n",
        "  rev_string=i+rev_string\n",
        "print(f'Reversed string {rev_string}')"
      ],
      "metadata": {
        "colab": {
          "base_uri": "https://localhost:8080/"
        },
        "id": "SpwTzMt2F76w",
        "outputId": "eb9f91f0-e63a-4914-df67-abdb8f80ca41"
      },
      "execution_count": null,
      "outputs": [
        {
          "output_type": "stream",
          "name": "stdout",
          "text": [
            "Enter a string : sreesanth\n",
            "Reversed string htnaseers\n"
          ]
        }
      ]
    },
    {
      "cell_type": "code",
      "source": [
        "# Reverse a string with using slicing.\n",
        "\n",
        "string=input('Enter a string : ')\n",
        "rev_string=string[0:5:1]\n",
        "print(f'Reversed string {rev_string}')"
      ],
      "metadata": {
        "colab": {
          "base_uri": "https://localhost:8080/"
        },
        "id": "Y38EeeSPImuE",
        "outputId": "896360f9-725d-4fad-99d0-ef6c0901468a"
      },
      "execution_count": null,
      "outputs": [
        {
          "output_type": "stream",
          "name": "stdout",
          "text": [
            "Enter a string : sreesanth\n",
            "Reversed string srees\n"
          ]
        }
      ]
    },
    {
      "cell_type": "code",
      "source": [
        "# Check if a word is a palindrome.\n",
        "string=input('Enter the String : ')\n",
        "rev_string=''\n",
        "for i in string:\n",
        "  rev_string=i+rev_string\n",
        "if(rev_string==string):\n",
        "    print(f'{rev_string} is palindrome.')\n",
        "else:\n",
        "    print(f'{rev_string} is not palindrome.')"
      ],
      "metadata": {
        "colab": {
          "base_uri": "https://localhost:8080/"
        },
        "id": "r1CR_YTIriOe",
        "outputId": "98f0f724-a499-4433-95f3-499b54d97799"
      },
      "execution_count": null,
      "outputs": [
        {
          "output_type": "stream",
          "name": "stdout",
          "text": [
            "Enter the String : sreesanth\n",
            "htnaseers is not palindrome.\n"
          ]
        }
      ]
    },
    {
      "cell_type": "code",
      "source": [
        "# Replace all spaces with _.\n",
        "\n",
        "print('Before converting ')\n",
        "text=input('Enter the text :')\n",
        "word=text.split()\n",
        "result='_'.join(word)\n",
        "print(f'After coverting - {result}')"
      ],
      "metadata": {
        "colab": {
          "base_uri": "https://localhost:8080/"
        },
        "id": "wrtuU05mu8MM",
        "outputId": "06df96c8-eb72-4585-e960-4585bcd40fdc"
      },
      "execution_count": null,
      "outputs": [
        {
          "output_type": "stream",
          "name": "stdout",
          "text": [
            "Before converting \n",
            "Enter the text :s r e e s a n t h \n",
            "After coverting - s_r_e_e_s_a_n_t_h\n"
          ]
        }
      ]
    },
    {
      "cell_type": "code",
      "source": [
        "# Replace all spaces with _. using list\n",
        "\n",
        "my_list=[]\n",
        "text=input('Enter the text :')\n",
        "word=text.split()\n",
        "result='_'.join(word)\n",
        "my_list.append(result)\n",
        "#print(f'Before converting - {text}')\n",
        "print(f'After coverting - {my_list}')"
      ],
      "metadata": {
        "colab": {
          "base_uri": "https://localhost:8080/"
        },
        "id": "IY-zKMVHxO67",
        "outputId": "5c02fa30-9bb1-4416-888f-9a34efd24e21"
      },
      "execution_count": null,
      "outputs": [
        {
          "output_type": "stream",
          "name": "stdout",
          "text": [
            "Enter the text :s r e e s a n t h \n",
            "After coverting - ['s_r_e_e_s_a_n_t_h']\n"
          ]
        }
      ]
    },
    {
      "cell_type": "code",
      "source": [
        "# Write a function that counts the number of words in a sentence.\n",
        "def count_words(word):\n",
        "  sentance=word.strip().split()\n",
        "  return len(sentance)\n",
        "text=input('Enter a sentance: ')\n",
        "count=count_words(text)\n",
        "print(f'Count of the sentance {count}')\n"
      ],
      "metadata": {
        "colab": {
          "base_uri": "https://localhost:8080/"
        },
        "id": "D5g5w5PGzAT2",
        "outputId": "49c37c5b-2815-4229-d12f-d05551b5b01c"
      },
      "execution_count": null,
      "outputs": [
        {
          "output_type": "stream",
          "name": "stdout",
          "text": [
            "Enter a sentance: i am a graduate student at the year of 2025\n",
            "Count of the sentance 10\n"
          ]
        }
      ]
    }
  ]
}