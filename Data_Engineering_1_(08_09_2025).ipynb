{
  "nbformat": 4,
  "nbformat_minor": 0,
  "metadata": {
    "colab": {
      "provenance": [],
      "authorship_tag": "ABX9TyOA8aAjbPPuBoI6rqh3/FVe",
      "include_colab_link": true
    },
    "kernelspec": {
      "name": "python3",
      "display_name": "Python 3"
    },
    "language_info": {
      "name": "python"
    }
  },
  "cells": [
    {
      "cell_type": "markdown",
      "metadata": {
        "id": "view-in-github",
        "colab_type": "text"
      },
      "source": [
        "<a href=\"https://colab.research.google.com/github/sreesanthrnair/DSA_Notes/blob/main/Data_Engineering_1_(08_09_2025).ipynb\" target=\"_parent\"><img src=\"https://colab.research.google.com/assets/colab-badge.svg\" alt=\"Open In Colab\"/></a>"
      ]
    },
    {
      "cell_type": "code",
      "execution_count": null,
      "metadata": {
        "colab": {
          "base_uri": "https://localhost:8080/"
        },
        "id": "AoOfFX_HavES",
        "outputId": "43e4ac93-7243-458e-e2ce-fc197a6b1ec5"
      },
      "outputs": [
        {
          "output_type": "stream",
          "name": "stdout",
          "text": [
            "<class 'pandas.core.frame.DataFrame'>\n",
            "RangeIndex: 149 entries, 0 to 148\n",
            "Data columns (total 5 columns):\n",
            " #   Column        Non-Null Count  Dtype  \n",
            "---  ------        --------------  -----  \n",
            " 0   sepal_length  149 non-null    float64\n",
            " 1   sepal_width   149 non-null    float64\n",
            " 2   petal_length  149 non-null    float64\n",
            " 3   petal_width   149 non-null    float64\n",
            " 4   species       149 non-null    object \n",
            "dtypes: float64(4), object(1)\n",
            "memory usage: 5.9+ KB\n",
            "None\n",
            "   sepal_length  sepal_width  petal_length  petal_width species\n",
            "0           5.1          3.5           1.4          0.2  setosa\n",
            "1           4.9          3.0           1.4          0.2  setosa\n",
            "2           4.7          3.2           1.3          0.2  setosa\n",
            "3           4.6          3.1           1.5          0.2  setosa\n",
            "4           5.0          3.6           1.4          0.2  setosa\n"
          ]
        }
      ],
      "source": [
        "import pandas as pd\n",
        "\n",
        "data = pd.read_csv(\"/content/irisexcel (1) (1).csv\")\n",
        "\n",
        "\n",
        "# check for issues\n",
        "print(data.info())\n",
        "print(data.head())"
      ]
    },
    {
      "cell_type": "code",
      "source": [
        "#Remove Duplicates\n",
        "data = data.drop_duplicates()\n",
        "#Handle missing values(If Any)\n",
        "data=data.fillna(method=\"ffill\")\n",
        "print(\"Cleaned Dataset Shape:\",data.shape)"
      ],
      "metadata": {
        "colab": {
          "base_uri": "https://localhost:8080/"
        },
        "id": "QDnjFLGDdhg4",
        "outputId": "7e870444-d889-43d0-838f-41c8bcf23a15"
      },
      "execution_count": null,
      "outputs": [
        {
          "output_type": "stream",
          "name": "stdout",
          "text": [
            "Cleaned Dataset Shape: (146, 5)\n"
          ]
        },
        {
          "output_type": "stream",
          "name": "stderr",
          "text": [
            "/tmp/ipython-input-1815330893.py:4: FutureWarning: DataFrame.fillna with 'method' is deprecated and will raise in a future version. Use obj.ffill() or obj.bfill() instead.\n",
            "  data=data.fillna(method=\"ffill\")\n"
          ]
        }
      ]
    },
    {
      "cell_type": "code",
      "source": [
        "data = data.drop_duplicates()"
      ],
      "metadata": {
        "id": "tnhFAIm1rxXX"
      },
      "execution_count": null,
      "outputs": []
    },
    {
      "cell_type": "code",
      "source": [
        "import pandas as pd\n",
        "\n",
        "data2=pd.read_excel(\"/content/data1.xlsx\")\n",
        "#Check for issues\n",
        "print(data2.info())\n",
        "print(data2.head())"
      ],
      "metadata": {
        "colab": {
          "base_uri": "https://localhost:8080/"
        },
        "id": "5TJv1cZ_uT0e",
        "outputId": "1c27d26f-8ba9-4486-e505-f5fe04d35958"
      },
      "execution_count": null,
      "outputs": [
        {
          "output_type": "stream",
          "name": "stdout",
          "text": [
            "<class 'pandas.core.frame.DataFrame'>\n",
            "RangeIndex: 154 entries, 0 to 153\n",
            "Data columns (total 5 columns):\n",
            " #   Column        Non-Null Count  Dtype  \n",
            "---  ------        --------------  -----  \n",
            " 0   sepal_length  141 non-null    float64\n",
            " 1   sepal_width   130 non-null    float64\n",
            " 2   petal_length  135 non-null    float64\n",
            " 3   petal_width   151 non-null    float64\n",
            " 4   species       151 non-null    object \n",
            "dtypes: float64(4), object(1)\n",
            "memory usage: 6.1+ KB\n",
            "None\n",
            "   sepal_length  sepal_width  petal_length  petal_width species\n",
            "0           5.1          3.5           1.4          0.2  setosa\n",
            "1           4.9          3.0           1.4          0.2  setosa\n",
            "2           4.7          NaN           1.3          0.2  setosa\n",
            "3           4.6          3.1           1.5          0.2  setosa\n",
            "4           NaN          3.6           1.4          0.2  setosa\n"
          ]
        }
      ]
    },
    {
      "cell_type": "code",
      "source": [
        "#Remove Duplicates\n",
        "data2 = data.drop_duplicates()\n",
        "#Handle missing values(If Any)\n",
        "data2=data2.fillna(method=\"ffill\")\n",
        "print(\"Cleaned Dataset Shape:\",data2.shape)"
      ],
      "metadata": {
        "colab": {
          "base_uri": "https://localhost:8080/"
        },
        "id": "Bsgem7wwxCqv",
        "outputId": "ef22ab0c-5268-486c-a5d0-4490969d0b96"
      },
      "execution_count": null,
      "outputs": [
        {
          "output_type": "stream",
          "name": "stdout",
          "text": [
            "Cleaned Dataset Shape: (146, 5)\n"
          ]
        },
        {
          "output_type": "stream",
          "name": "stderr",
          "text": [
            "/tmp/ipython-input-4236543729.py:4: FutureWarning: DataFrame.fillna with 'method' is deprecated and will raise in a future version. Use obj.ffill() or obj.bfill() instead.\n",
            "  data2=data2.fillna(method=\"ffill\")\n"
          ]
        }
      ]
    },
    {
      "cell_type": "code",
      "source": [
        "data2 = data2.drop_duplicates()\n",
        "data2 = data2.fillna(method='ffill')"
      ],
      "metadata": {
        "id": "8BSHYMDnxUuE",
        "colab": {
          "base_uri": "https://localhost:8080/"
        },
        "outputId": "45f3a754-1ee2-4eed-b817-066e6fd1ae27"
      },
      "execution_count": null,
      "outputs": [
        {
          "output_type": "stream",
          "name": "stderr",
          "text": [
            "/tmp/ipython-input-2672304604.py:2: FutureWarning: DataFrame.fillna with 'method' is deprecated and will raise in a future version. Use obj.ffill() or obj.bfill() instead.\n",
            "  data2 = data2.fillna(method='ffill')\n"
          ]
        }
      ]
    },
    {
      "cell_type": "code",
      "source": [
        "print(\"cleaned data shape: \", data.shape)"
      ],
      "metadata": {
        "id": "LIVlqiK3xUoF",
        "colab": {
          "base_uri": "https://localhost:8080/"
        },
        "outputId": "71c86b6d-b772-4158-efba-45b171411072"
      },
      "execution_count": null,
      "outputs": [
        {
          "output_type": "stream",
          "name": "stdout",
          "text": [
            "cleaned data shape:  (146, 5)\n"
          ]
        }
      ]
    },
    {
      "cell_type": "code",
      "source": [
        "!pip install schedule"
      ],
      "metadata": {
        "colab": {
          "base_uri": "https://localhost:8080/"
        },
        "id": "Io0NBPH7xUkW",
        "outputId": "a7f5471a-a1d5-45fd-cefc-8a3d2db8d4be"
      },
      "execution_count": null,
      "outputs": [
        {
          "output_type": "stream",
          "name": "stdout",
          "text": [
            "Requirement already satisfied: schedule in /usr/local/lib/python3.12/dist-packages (1.2.2)\n"
          ]
        }
      ]
    },
    {
      "cell_type": "code",
      "source": [
        "import schedule,time\n",
        "import pandas as pd\n",
        "def pipline():\n",
        "  data=pd.read_csv(\"/content/irisexcel (1) (1).csv\")\n",
        "  data=data.drop_duplicates()\n",
        "  data=data.fillna(method=\"ffill\")\n",
        "  print(\"Rows:\",len(data))\n",
        "  print(\"Means Values:\\n\",data.mean(numeric_only=True))\n",
        "\n",
        "schedule.every(0.10).minutes.do(pipline)\n",
        "\n",
        "while True:\n",
        "  schedule.run_pending()\n",
        "  time.sleep(1)"
      ],
      "metadata": {
        "colab": {
          "base_uri": "https://localhost:8080/",
          "height": 532
        },
        "id": "OQdqci3QxUgg",
        "outputId": "47968c1d-54cd-445a-84cf-9fd499ff1ce0"
      },
      "execution_count": null,
      "outputs": [
        {
          "output_type": "stream",
          "name": "stderr",
          "text": [
            "/tmp/ipython-input-454183525.py:6: FutureWarning: DataFrame.fillna with 'method' is deprecated and will raise in a future version. Use obj.ffill() or obj.bfill() instead.\n",
            "  data=data.fillna(method=\"ffill\")\n",
            "/tmp/ipython-input-454183525.py:6: FutureWarning: DataFrame.fillna with 'method' is deprecated and will raise in a future version. Use obj.ffill() or obj.bfill() instead.\n",
            "  data=data.fillna(method=\"ffill\")\n"
          ]
        },
        {
          "output_type": "stream",
          "name": "stdout",
          "text": [
            "Rows: 146\n",
            "Means Values:\n",
            " sepal_length    5.856164\n",
            "sepal_width     3.056164\n",
            "petal_length    3.771233\n",
            "petal_width     1.204795\n",
            "dtype: float64\n",
            "Rows: 146\n",
            "Means Values:\n",
            " sepal_length    5.856164\n",
            "sepal_width     3.056164\n",
            "petal_length    3.771233\n",
            "petal_width     1.204795\n",
            "dtype: float64\n"
          ]
        },
        {
          "output_type": "error",
          "ename": "KeyboardInterrupt",
          "evalue": "",
          "traceback": [
            "\u001b[0;31m---------------------------------------------------------------------------\u001b[0m",
            "\u001b[0;31mKeyboardInterrupt\u001b[0m                         Traceback (most recent call last)",
            "\u001b[0;32m/tmp/ipython-input-454183525.py\u001b[0m in \u001b[0;36m<cell line: 0>\u001b[0;34m()\u001b[0m\n\u001b[1;32m     12\u001b[0m \u001b[0;32mwhile\u001b[0m \u001b[0;32mTrue\u001b[0m\u001b[0;34m:\u001b[0m\u001b[0;34m\u001b[0m\u001b[0;34m\u001b[0m\u001b[0m\n\u001b[1;32m     13\u001b[0m   \u001b[0mschedule\u001b[0m\u001b[0;34m.\u001b[0m\u001b[0mrun_pending\u001b[0m\u001b[0;34m(\u001b[0m\u001b[0;34m)\u001b[0m\u001b[0;34m\u001b[0m\u001b[0;34m\u001b[0m\u001b[0m\n\u001b[0;32m---> 14\u001b[0;31m   \u001b[0mtime\u001b[0m\u001b[0;34m.\u001b[0m\u001b[0msleep\u001b[0m\u001b[0;34m(\u001b[0m\u001b[0;36m1\u001b[0m\u001b[0;34m)\u001b[0m\u001b[0;34m\u001b[0m\u001b[0;34m\u001b[0m\u001b[0m\n\u001b[0m",
            "\u001b[0;31mKeyboardInterrupt\u001b[0m: "
          ]
        }
      ]
    },
    {
      "cell_type": "code",
      "source": [
        "import pandas as pd\n",
        "import random\n",
        "name=['Alice','Bob','Charlie','Diana','Eric','Farah','George','Helen','Ian','Jenny','rajuA10']\n",
        "departments=['Computer Science','Electronics','Mechanical','Civil']\n",
        "data=[]\n",
        "for i in range (1,21):\n",
        "  record={\n",
        "        'student_id':i,\n",
        "        'name':random.choice(name),\n",
        "        'age':random.choice([20,21,22,23,None]),\n",
        "        'department':random.choice(departments+['Electronics']),\n",
        "        'marks':random.randint(30,100),\n",
        "        'attendance':random.choice([random.randint(70,100),None])\n",
        "      }\n",
        "  data.append(record)\n",
        "df=pd.DataFrame(data)\n",
        "#save\n",
        "df.to_csv('students_random.csv',index=True)\n",
        "print('Random dirty dataset saved as student_random.csv')\n",
        "print(df.head(21))\n"
      ],
      "metadata": {
        "colab": {
          "base_uri": "https://localhost:8080/"
        },
        "id": "4fxTs44FxUXJ",
        "outputId": "11f6e746-c077-44ed-e0bc-a9d4b7188d17"
      },
      "execution_count": null,
      "outputs": [
        {
          "output_type": "stream",
          "name": "stdout",
          "text": [
            "Random dirty dataset saved as student_random.csv\n",
            "    student_id    name   age        department  marks  attendance\n",
            "0            1   Alice  23.0       Electronics     92        80.0\n",
            "1            2    Eric   NaN             Civil     59         NaN\n",
            "2            3   Helen  21.0       Electronics     32        94.0\n",
            "3            4   Alice  23.0       Electronics     90         NaN\n",
            "4            5   Alice   NaN       Electronics     43         NaN\n",
            "5            6   Farah  21.0       Electronics     70         NaN\n",
            "6            7   Helen  20.0  Computer Science     33         NaN\n",
            "7            8   Diana   NaN       Electronics     37        89.0\n",
            "8            9   Diana  22.0       Electronics     66         NaN\n",
            "9           10   Jenny   NaN  Computer Science     76        77.0\n",
            "10          11   Alice  21.0       Electronics     56         NaN\n",
            "11          12   Helen  21.0             Civil     64         NaN\n",
            "12          13   Farah  23.0       Electronics     55        80.0\n",
            "13          14  George  22.0             Civil     51        98.0\n",
            "14          15    Eric  23.0             Civil     76         NaN\n",
            "15          16   Farah  22.0  Computer Science     47        96.0\n",
            "16          17   Diana   NaN       Electronics     67        89.0\n",
            "17          18   Farah  23.0             Civil     54        96.0\n",
            "18          19   Diana  20.0             Civil    100         NaN\n",
            "19          20   Helen  20.0       Electronics     68        94.0\n"
          ]
        }
      ]
    },
    {
      "cell_type": "code",
      "source": [
        "df=pd.read_csv('students_random.csv')\n",
        "\n",
        "\n",
        "print('original dirty data')\n",
        "print(df.head())\n",
        "\n",
        "df.drop_duplicates()\n",
        "df['age']=df['age'].fillna(df['age'].mean())\n",
        "df['attendance']=df['attendance'].fillna(df['attendance'].median())\n",
        "df['department']=df['department'].replace({'Electrniics':'Electronics'})\n",
        "print('\\nClenaed Data')\n",
        "print(df.head(20))"
      ],
      "metadata": {
        "colab": {
          "base_uri": "https://localhost:8080/"
        },
        "id": "7HvnQhP1EwZb",
        "outputId": "db488fc2-3b9e-44c7-df41-e044867ef542"
      },
      "execution_count": null,
      "outputs": [
        {
          "output_type": "stream",
          "name": "stdout",
          "text": [
            "original dirty data\n",
            "   Unnamed: 0  student_id   name   age   department  marks  attendance\n",
            "0           0           1  Alice  23.0  Electronics     92        80.0\n",
            "1           1           2   Eric   NaN        Civil     59         NaN\n",
            "2           2           3  Helen  21.0  Electronics     32        94.0\n",
            "3           3           4  Alice  23.0  Electronics     90         NaN\n",
            "4           4           5  Alice   NaN  Electronics     43         NaN\n",
            "\n",
            "Clenaed Data\n",
            "    Unnamed: 0  student_id    name        age        department  marks  \\\n",
            "0            0           1   Alice  23.000000       Electronics     92   \n",
            "1            1           2    Eric  21.666667             Civil     59   \n",
            "2            2           3   Helen  21.000000       Electronics     32   \n",
            "3            3           4   Alice  23.000000       Electronics     90   \n",
            "4            4           5   Alice  21.666667       Electronics     43   \n",
            "5            5           6   Farah  21.000000       Electronics     70   \n",
            "6            6           7   Helen  20.000000  Computer Science     33   \n",
            "7            7           8   Diana  21.666667       Electronics     37   \n",
            "8            8           9   Diana  22.000000       Electronics     66   \n",
            "9            9          10   Jenny  21.666667  Computer Science     76   \n",
            "10          10          11   Alice  21.000000       Electronics     56   \n",
            "11          11          12   Helen  21.000000             Civil     64   \n",
            "12          12          13   Farah  23.000000       Electronics     55   \n",
            "13          13          14  George  22.000000             Civil     51   \n",
            "14          14          15    Eric  23.000000             Civil     76   \n",
            "15          15          16   Farah  22.000000  Computer Science     47   \n",
            "16          16          17   Diana  21.666667       Electronics     67   \n",
            "17          17          18   Farah  23.000000             Civil     54   \n",
            "18          18          19   Diana  20.000000             Civil    100   \n",
            "19          19          20   Helen  20.000000       Electronics     68   \n",
            "\n",
            "    attendance  \n",
            "0         80.0  \n",
            "1         91.5  \n",
            "2         94.0  \n",
            "3         91.5  \n",
            "4         91.5  \n",
            "5         91.5  \n",
            "6         91.5  \n",
            "7         89.0  \n",
            "8         91.5  \n",
            "9         77.0  \n",
            "10        91.5  \n",
            "11        91.5  \n",
            "12        80.0  \n",
            "13        98.0  \n",
            "14        91.5  \n",
            "15        96.0  \n",
            "16        89.0  \n",
            "17        96.0  \n",
            "18        91.5  \n",
            "19        94.0  \n"
          ]
        }
      ]
    },
    {
      "cell_type": "code",
      "source": [
        "#Automation rule  --->  check loew mark\n",
        "if 'marks' in df.columns:\n",
        "  low_marks=df[df['marks']<40]\n",
        "  if not low_marks.empty:\n",
        "    print('\\n Warning Students with amek below 40:')\n",
        "    print(low_marks[['student_id','name','marks']])\n",
        "  else:\n",
        "    print('\\n No Failing students found !')\n",
        "\n"
      ],
      "metadata": {
        "colab": {
          "base_uri": "https://localhost:8080/"
        },
        "id": "QfvBaNe2JB58",
        "outputId": "f2a2a07e-aae4-4f72-c9c3-4cf1058f1e86"
      },
      "execution_count": null,
      "outputs": [
        {
          "output_type": "stream",
          "name": "stdout",
          "text": [
            "\n",
            " Warning Students with amek below 40:\n",
            "   student_id   name  marks\n",
            "2           3  Helen     32\n",
            "6           7  Helen     33\n",
            "7           8  Diana     37\n"
          ]
        }
      ]
    }
  ]
}