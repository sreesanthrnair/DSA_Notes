{
  "nbformat": 4,
  "nbformat_minor": 0,
  "metadata": {
    "colab": {
      "provenance": [],
      "authorship_tag": "ABX9TyPytjsNgWSocN8GG9Hg+fIE",
      "include_colab_link": true
    },
    "kernelspec": {
      "name": "python3",
      "display_name": "Python 3"
    },
    "language_info": {
      "name": "python"
    }
  },
  "cells": [
    {
      "cell_type": "markdown",
      "metadata": {
        "id": "view-in-github",
        "colab_type": "text"
      },
      "source": [
        "<a href=\"https://colab.research.google.com/github/sreesanthrnair/DSA_Notes/blob/main/What_is_SQL%3F.ipynb\" target=\"_parent\"><img src=\"https://colab.research.google.com/assets/colab-badge.svg\" alt=\"Open In Colab\"/></a>"
      ]
    },
    {
      "cell_type": "markdown",
      "source": [
        "\n",
        "##  What is SQL?\n",
        "\n",
        "**SQL (Structured Query Language)** is the standard language for interacting with relational databases. It lets you **create**, **read**, **update**, and **delete** data—commonly known as **CRUD operations**.\n",
        "\n",
        "---\n",
        "\n",
        "##  CRUD Operations in SQL\n",
        "\n",
        "| Operation | SQL Keyword | Purpose |\n",
        "|-----------|-------------|---------|\n",
        "| **Create** | `INSERT`     | Add new records to a table |\n",
        "| **Read**   | `SELECT`     | Retrieve data from one or more tables |\n",
        "| **Update** | `UPDATE`     | Modify existing records |\n",
        "| **Delete** | `DELETE`     | Remove records from a table |\n",
        "\n",
        "---\n",
        "\n",
        "###  1. CREATE (Insert Data)\n",
        "```sql\n",
        "INSERT INTO employees (name, role, salary)\n",
        "VALUES ('Sreesanth', 'Data Analyst', 75000);\n",
        "```\n",
        "\n",
        "- Adds a new row to the `employees` table.\n",
        "\n",
        "---\n",
        "\n",
        "###  2. READ (Select Data)\n",
        "```sql\n",
        "SELECT name, salary\n",
        "FROM employees\n",
        "WHERE role = 'Data Analyst';\n",
        "```\n",
        "\n",
        "- Retrieves specific columns and filters rows based on conditions.\n",
        "\n",
        "---\n",
        "\n",
        "###  3. UPDATE (Modify Data)\n",
        "```sql\n",
        "UPDATE employees\n",
        "SET salary = 80000\n",
        "WHERE name = 'Sreesanth';\n",
        "```\n",
        "\n",
        "- Updates the salary for a specific employee.\n",
        "\n",
        "---\n",
        "\n",
        "###  4. DELETE (Remove Data)\n",
        "```sql\n",
        "DELETE FROM employees\n",
        "WHERE name = 'Sreesanth';\n",
        "```\n",
        "\n",
        "- Deletes the record for Sreesanth from the table.\n",
        "\n",
        "---\n",
        "\n",
        "##  Bonus: Table Creation\n",
        "\n",
        "```sql\n",
        "CREATE TABLE employees (\n",
        "  id INT PRIMARY KEY,\n",
        "  name VARCHAR(50),\n",
        "  role VARCHAR(50),\n",
        "  salary DECIMAL(10, 2)\n",
        ");\n",
        "```\n",
        "\n",
        "- Defines a new table with columns and data types.\n",
        "\n",
        "---\n",
        "\n",
        "##  Tips for Mastery\n",
        "\n",
        "- Always **backup** before running `UPDATE` or `DELETE`\n",
        "- Use `WHERE` clauses carefully to avoid affecting all rows\n",
        "- Practice with sample datasets like **Chinook**, **Sakila**, or your housing dataset\n",
        "- Use `LIMIT`, `ORDER BY`, and `GROUP BY` to refine queries\n",
        "\n",
        "\n"
      ],
      "metadata": {
        "id": "neCpV8C5X3Pz"
      }
    }
  ]
}