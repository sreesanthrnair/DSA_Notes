{
  "cells": [
    {
      "cell_type": "markdown",
      "metadata": {
        "id": "view-in-github",
        "colab_type": "text"
      },
      "source": [
        "<a href=\"https://colab.research.google.com/github/sreesanthrnair/DSA_Notes/blob/main/Data_Ingestion_Notes_(11_09_2025)ipynb.ipynb\" target=\"_parent\"><img src=\"https://colab.research.google.com/assets/colab-badge.svg\" alt=\"Open In Colab\"/></a>"
      ]
    },
    {
      "cell_type": "markdown",
      "id": "384b95a7",
      "metadata": {
        "id": "384b95a7"
      },
      "source": [
        "#  Data Ingestion\n",
        "\n",
        "##  What is Data Ingestion?\n",
        "Data ingestion is the process of **collecting data from multiple sources and moving it into a storage system or processing framework** where it can be analyzed, transformed, or used by applications.\n",
        "\n",
        "---\n",
        "\n",
        "##  Types of Data Ingestion\n",
        "1. **Batch Ingestion** – Data collected in chunks at intervals.  \n",
        "2. **Real-Time (Streaming) Ingestion** – Data flows continuously.  \n",
        "3. **Hybrid (Lambda Architecture)** – Mix of batch + streaming.\n",
        "\n",
        "---\n",
        "\n",
        "##  Steps in Data Ingestion\n",
        "1. Connect to Data Source  \n",
        "2. Extract Data  \n",
        "3. Transform (optional)  \n",
        "4. Load Data  \n",
        "5. Monitor & Manage  \n",
        "\n",
        "---\n",
        "\n",
        "##  Tools & Technologies\n",
        "- Batch: Apache Nifi, Talend, Airflow  \n",
        "- Streaming: Apache Kafka, AWS Kinesis, Spark Streaming  \n",
        "- Storage: Snowflake, BigQuery, Hadoop, Databricks\n",
        "\n",
        "\n",
        "## Key Characteristics of Data Ingestion\n",
        "\n",
        "- Scalability\n",
        "\n",
        "Should handle large and growing datasets from multiple sources.\n",
        "\n",
        "Example: An IoT system where millions of sensor readings are ingested per second.\n",
        "\n",
        "- Flexibility\n",
        "\n",
        "Must support different data formats (CSV, JSON, XML, Parquet, logs, etc.).\n",
        "\n",
        "Should work with structured, semi-structured, and unstructured data.\n",
        "\n",
        "- Speed (Latency)\n",
        "\n",
        "Can operate in batch mode (minutes to hours) or real-time streaming (milliseconds).\n",
        "\n",
        "Critical for applications like fraud detection or stock trading.\n",
        "\n",
        "- Reliability & Fault Tolerance\n",
        "\n",
        "System should recover from failures without losing data.\n",
        "\n",
        "Uses checkpoints, retries, and acknowledgments to ensure delivery.\n",
        "\n",
        "---\n"
      ]
    },
    {
      "cell_type": "code",
      "execution_count": null,
      "id": "62e64db4",
      "metadata": {
        "id": "62e64db4"
      },
      "outputs": [],
      "source": [
        "# Install required packages\n",
        "!pip install requests sqlalchemy"
      ]
    },
    {
      "cell_type": "code",
      "execution_count": null,
      "id": "5725cfed",
      "metadata": {
        "id": "5725cfed"
      },
      "outputs": [],
      "source": [
        "import pandas as pd\n",
        "import requests\n",
        "import sqlite3"
      ]
    },
    {
      "cell_type": "markdown",
      "id": "d8e39605",
      "metadata": {
        "id": "d8e39605"
      },
      "source": [
        "## 1. Ingest from a CSV File"
      ]
    },
    {
      "cell_type": "code",
      "execution_count": null,
      "id": "e114b93c",
      "metadata": {
        "id": "e114b93c"
      },
      "outputs": [],
      "source": [
        "# Example CSV file from a public dataset\n",
        "url = \"https://people.sc.fsu.edu/~jburkardt/data/csv/hw_200.csv\"\n",
        "csv_data = pd.read_csv(url)\n",
        "\n",
        "print(\"CSV Data (first 5 rows):\")\n",
        "csv_data.head()"
      ]
    },
    {
      "cell_type": "markdown",
      "id": "dd385bec",
      "metadata": {
        "id": "dd385bec"
      },
      "source": [
        "## 2. Ingest from an API"
      ]
    },
    {
      "cell_type": "code",
      "execution_count": null,
      "id": "d9f2f004",
      "metadata": {
        "id": "d9f2f004"
      },
      "outputs": [],
      "source": [
        "# Example API: JSONPlaceholder (fake posts)\n",
        "api_url = \"https://jsonplaceholder.typicode.com/posts\"\n",
        "response = requests.get(api_url)\n",
        "api_data = pd.DataFrame(response.json())\n",
        "\n",
        "print(\"API Data (first 5 rows):\")\n",
        "api_data.head()"
      ]
    },
    {
      "cell_type": "markdown",
      "id": "c0f10fea",
      "metadata": {
        "id": "c0f10fea"
      },
      "source": [
        "## 3. Ingest from a Database (SQLite Demo)"
      ]
    },
    {
      "cell_type": "code",
      "execution_count": null,
      "id": "cee4d625",
      "metadata": {
        "id": "cee4d625"
      },
      "outputs": [],
      "source": [
        "# Save CSV data into SQLite DB and read it back\n",
        "conn = sqlite3.connect(\"sample.db\")\n",
        "csv_data.to_sql(\"students\", conn, if_exists=\"replace\", index=False)\n",
        "\n",
        "db_data = pd.read_sql(\"SELECT * FROM students LIMIT 5\", conn)\n",
        "print(\"Database Data (first 5 rows):\")\n",
        "db_data"
      ]
    },
    {
      "cell_type": "markdown",
      "source": [
        "## What is a Kafka Cluster?\n",
        "A Kafka cluster is a group of servers (called brokers) working together to handle real-time data streams. It stores, processes, and moves data efficiently between systems\n"
      ],
      "metadata": {
        "id": "GVJelGmAa7Ae"
      },
      "id": "GVJelGmAa7Ae"
    },
    {
      "cell_type": "markdown",
      "source": [
        "## Why Use Kafka?\n",
        "- Real-time data streaming\n",
        "- High performance (millions of messages/sec)\n",
        "- Scalable (add more brokers easily)\n",
        "- Reliable (data is replicated for safety)\n",
        "- Decouples systems (producers and consumers don’t need to know each other)\n"
      ],
      "metadata": {
        "id": "SUlz9ekua_FF"
      },
      "id": "SUlz9ekua_FF"
    },
    {
      "cell_type": "markdown",
      "source": [
        "\n",
        "\n",
        "```\n",
        "# This is formatted as code\n",
        "```\n",
        "\n",
        "## Kafka Cluster Terms (Quick Points)\n",
        "- Broker: Kafka server that stores and serves data.\n",
        "- Topic: Named stream of data (like a folder).\n",
        "- Partition: Split of a topic for parallel processing.\n",
        "- Producer: Sends data to Kafka.\n",
        "- Consumer: Reads data from Kafka.\n",
        "- Consumer Group: Multiple consumers sharing the load.\n",
        "- Offset: Position of a message in a partition.\n",
        "- Replication: Copies of data for fault tolerance.\n",
        "- ZooKeeper / KRaft: Manages cluster coordination.\n"
      ],
      "metadata": {
        "id": "aQvuBzV4bDDl"
      },
      "id": "aQvuBzV4bDDl"
    }
  ],
  "metadata": {
    "colab": {
      "provenance": [],
      "include_colab_link": true
    }
  },
  "nbformat": 4,
  "nbformat_minor": 5
}