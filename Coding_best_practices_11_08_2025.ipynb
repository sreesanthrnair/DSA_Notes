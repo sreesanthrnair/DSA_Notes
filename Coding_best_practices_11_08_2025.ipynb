{
  "nbformat": 4,
  "nbformat_minor": 0,
  "metadata": {
    "colab": {
      "provenance": [],
      "authorship_tag": "ABX9TyOS/dHsn10wZrrMA7AFYmDy",
      "include_colab_link": true
    },
    "kernelspec": {
      "name": "python3",
      "display_name": "Python 3"
    },
    "language_info": {
      "name": "python"
    }
  },
  "cells": [
    {
      "cell_type": "markdown",
      "metadata": {
        "id": "view-in-github",
        "colab_type": "text"
      },
      "source": [
        "<a href=\"https://colab.research.google.com/github/sreesanthrnair/DSA_Notes/blob/main/Coding_best_practices_11_08_2025.ipynb\" target=\"_parent\"><img src=\"https://colab.research.google.com/assets/colab-badge.svg\" alt=\"Open In Colab\"/></a>"
      ]
    },
    {
      "cell_type": "markdown",
      "source": [
        "# Coding - Best Practices"
      ],
      "metadata": {
        "id": "qYicKazKL3xi"
      }
    },
    {
      "cell_type": "markdown",
      "source": [
        "1. Readability - PEP8 Style.\n",
        "2. Functions & DRY Principle.\n",
        "3. Error Handling & Exception and Validation.\n",
        "4. Writing Python Code.\n",
        "5. Documentation & Commenting.\n",
        "\n",
        "\n"
      ],
      "metadata": {
        "id": "wc-HuwRoMJrP"
      }
    },
    {
      "cell_type": "code",
      "execution_count": null,
      "metadata": {
        "id": "tF4rxOTkuHE8",
        "colab": {
          "base_uri": "https://localhost:8080/"
        },
        "outputId": "4a686361-6f84-4142-bdd5-2222e4d74e62"
      },
      "outputs": [
        {
          "output_type": "stream",
          "name": "stdout",
          "text": [
            "Addition result: 8\n",
            "Subtraction result: 6\n",
            "Multiplication result: 16\n",
            "Division result: 5.0\n"
          ]
        }
      ],
      "source": [
        "def  add_two_numbers(a, b):\n",
        "  return a + b\n",
        "\n",
        "\n",
        "def subtract_two_numbers(a, b):\n",
        "  return a - b\n",
        "\n",
        "\n",
        "def multiply_two_numbers(a, b):\n",
        "  return a*b\n",
        "\n",
        "\n",
        "def divide_two_numbers(a, b):\n",
        "  if b!=0:\n",
        "    return a/b\n",
        "  else:\n",
        "    return None\n",
        "\n",
        "\n",
        "result1 = add_two_numbers(5,3)\n",
        "result2 = subtract_two_numbers(10,4)\n",
        "result3 = multiply_two_numbers(2,8)\n",
        "result4 = divide_two_numbers(10,2)\n",
        "\n",
        "print(\"Addition result:\", result1)\n",
        "print(\"Subtraction result:\" , result2)\n",
        "print(\"Multiplication result:\", result3)\n",
        "print(\"Division result:\", result4)"
      ]
    },
    {
      "cell_type": "code",
      "source": [
        "def check_even_odd(num):\n",
        "    # This single line replaces the entire if/else block.\n",
        "    if num % 2 == 0:\n",
        "      return \"Even\"\n",
        "    else:\n",
        "       return \"Odd\"\n",
        "\n",
        "\n",
        "check_even_odd(9)"
      ],
      "metadata": {
        "colab": {
          "base_uri": "https://localhost:8080/",
          "height": 36
        },
        "id": "dD4Upg0T_VbJ",
        "outputId": "180ab1f5-0f84-4a00-fb0d-59fbd53eb2e1"
      },
      "execution_count": null,
      "outputs": [
        {
          "output_type": "execute_result",
          "data": {
            "text/plain": [
              "'Odd'"
            ],
            "application/vnd.google.colaboratory.intrinsic+json": {
              "type": "string"
            }
          },
          "metadata": {},
          "execution_count": 6
        }
      ]
    },
    {
      "cell_type": "code",
      "source": [
        "def print_rectangle_area(width, height):\n",
        "    area = width * height\n",
        "    print(f\"Area of rectangle: {area}\")\n",
        "\n",
        "\n",
        "print_rectangle_area(5, 10)\n",
        "print_rectangle_area(3, 8)\n",
        "print_rectangle_area(6, 4)"
      ],
      "metadata": {
        "colab": {
          "base_uri": "https://localhost:8080/"
        },
        "id": "Z8auo1w9_aDt",
        "outputId": "0431ed0b-8551-46cf-cacb-bcaa4a647d7b"
      },
      "execution_count": null,
      "outputs": [
        {
          "output_type": "stream",
          "name": "stdout",
          "text": [
            "Area of rectangle: 50\n",
            "Area of rectangle: 24\n",
            "Area of rectangle: 24\n"
          ]
        }
      ]
    }
  ]
}