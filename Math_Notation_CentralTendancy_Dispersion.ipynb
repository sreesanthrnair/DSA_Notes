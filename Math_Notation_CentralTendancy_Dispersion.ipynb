{
  "nbformat": 4,
  "nbformat_minor": 0,
  "metadata": {
    "colab": {
      "provenance": [],
      "authorship_tag": "ABX9TyNsSKUNSn2qMAHNCYoJ2Ck5",
      "include_colab_link": true
    },
    "kernelspec": {
      "name": "python3",
      "display_name": "Python 3"
    },
    "language_info": {
      "name": "python"
    }
  },
  "cells": [
    {
      "cell_type": "markdown",
      "metadata": {
        "id": "view-in-github",
        "colab_type": "text"
      },
      "source": [
        "<a href=\"https://colab.research.google.com/github/sreesanthrnair/DSA_Notes/blob/main/Math_Notation_CentralTendancy_Dispersion.ipynb\" target=\"_parent\"><img src=\"https://colab.research.google.com/assets/colab-badge.svg\" alt=\"Open In Colab\"/></a>"
      ]
    },
    {
      "cell_type": "code",
      "execution_count": null,
      "metadata": {
        "colab": {
          "base_uri": "https://localhost:8080/"
        },
        "id": "ei7TX6rRnd4C",
        "outputId": "3f6c4e97-fa4c-4c44-b829-27b168cd71f5"
      },
      "outputs": [
        {
          "output_type": "stream",
          "name": "stdout",
          "text": [
            "Mean is 6.142857142857143\n"
          ]
        }
      ],
      "source": [
        "# 1) Mean (Average)\n",
        "\n",
        "# Definition: The mean is the sum of all data values divided by the total number of values.\n",
        "\n",
        "# Formula:\n",
        "\n",
        "# Mean=Sum of all data points/\n",
        "# Number of data points\n",
        "\n",
        "# Example:\n",
        "# Data: 2, 4, 6, 8\n",
        "# Mean = (2+4+6+8) / 4 = 20 / 4 = 5\n",
        "\n",
        "data=[5,8,2,7,3,8,10]\n",
        "find_mean=sum(data)/7\n",
        "print(f'Mean is {find_mean}')"
      ]
    },
    {
      "cell_type": "code",
      "source": [
        "#2) Median\n",
        "\n",
        "# Definition: The median is the middle value when the data is arranged in ascending order.\n",
        "\n",
        "# Steps:\n",
        "\n",
        "# Arrange the data in order.\n",
        "\n",
        "# If n (number of values) is odd:\n",
        "# Median = Middle value.\n",
        "\n",
        "# If n is even:\n",
        "# Median = Average of two middle values.\n",
        "\n",
        "# Example:\n",
        "# Data: 3, 5, 7\n",
        "# Median = 5 (middle value)\n",
        "# Data: 3, 5, 7, 9\n",
        "# Median = (5 + 7) / 2 = 6\n",
        "\n",
        "data=[5,8,2,7,3,8,10,17]\n",
        "data.sort()\n",
        "n=len(data)\n",
        "if(n % 2 == 1):\n",
        "  median=data[n//2]\n",
        "else:\n",
        "  median=(data[n//2-1] + data[n//2])/2\n",
        "print(f'Median is {median}')"
      ],
      "metadata": {
        "colab": {
          "base_uri": "https://localhost:8080/"
        },
        "id": "PemOAcKP0q8d",
        "outputId": "3a468aef-1f62-41f1-e3b0-509b3c8261ab"
      },
      "execution_count": null,
      "outputs": [
        {
          "output_type": "stream",
          "name": "stdout",
          "text": [
            "Median is 7.5\n"
          ]
        }
      ]
    },
    {
      "cell_type": "code",
      "source": [
        "print(data)"
      ],
      "metadata": {
        "colab": {
          "base_uri": "https://localhost:8080/"
        },
        "id": "ooQK-Yn7KyIE",
        "outputId": "d6cdb5f0-bc9c-4a33-ff92-033a001ab7b4"
      },
      "execution_count": null,
      "outputs": [
        {
          "output_type": "stream",
          "name": "stdout",
          "text": [
            "[2, 3, 5, 7, 8, 8, 10, 17]\n"
          ]
        }
      ]
    },
    {
      "cell_type": "code",
      "source": [
        "#3) Mode\n",
        "\n",
        "# Definition: The mode is the most frequent value in the dataset.\n",
        "\n",
        "# Example:\n",
        "# Data: 2, 3, 3, 4, 5\n",
        "# Mode = 3 (since it appears most often)\n",
        "# If no value repeats, there may be no mode.\n",
        "# If more than one value repeats equally, there can be multiple modes (bi-modal or multi-modal).\n",
        "\n",
        "data=[5,8,2,7,3,8,10,1,2,3,4,5,5,6,6,4,6,7,8,9,8,7,6,5,4,3,2,3,4,5,6,7,8,7,6,5,4,3,2,3,4,5,6,7,8,7,6,5]\n",
        "lst=set(data)\n",
        "mode=0\n",
        "mode_count=0\n",
        "for i in lst:\n",
        "     max_count=data.count(i)\n",
        "     if(max_count>mode_count):\n",
        "        mode=i\n",
        "        mode_count=max_count\n",
        "print(mode)\n",
        "print(lst)\n",
        "\n",
        "\n"
      ],
      "metadata": {
        "colab": {
          "base_uri": "https://localhost:8080/"
        },
        "id": "pBL1xSAt5MLT",
        "outputId": "c4c55d1d-6a73-4cee-cf6e-c25abfe43c1a"
      },
      "execution_count": null,
      "outputs": [
        {
          "output_type": "stream",
          "name": "stdout",
          "text": [
            "5\n",
            "{1, 2, 3, 4, 5, 6, 7, 8, 9, 10}\n"
          ]
        }
      ]
    },
    {
      "cell_type": "code",
      "source": [
        "set(data)\n"
      ],
      "metadata": {
        "colab": {
          "base_uri": "https://localhost:8080/"
        },
        "id": "Jcg0wcyiPKA9",
        "outputId": "b8514f8a-3691-45a0-bfb9-2da751d94aca"
      },
      "execution_count": null,
      "outputs": [
        {
          "output_type": "execute_result",
          "data": {
            "text/plain": [
              "{1, 2, 3, 4, 5, 6, 7, 8, 9, 10}"
            ]
          },
          "metadata": {},
          "execution_count": 15
        }
      ]
    },
    {
      "cell_type": "code",
      "source": [
        "# 4) Quartiles\n",
        "\n",
        "# Definition: Quartiles divide the dataset into four equal parts.\n",
        "\n",
        "# Important Quartiles:\n",
        "\n",
        "# Q1 (Lower Quartile): Value at 25% of the data.\n",
        "\n",
        "# Q2 (Median): Value at 50% of the data.\n",
        "\n",
        "# Q3 (Upper Quartile): Value at 75% of the data.\n",
        "\n",
        "# Interquartile Range (IQR):\n",
        "\n",
        "# IQR=Q3−Q1\n",
        "\n",
        "# It shows the spread of the middle 50% of the data.\n",
        "\n",
        "# Example:\n",
        "# Data: 2, 4, 6, 8, 10, 12, 14, 16\n",
        "# Q1 = 4, Q2 = 8, Q3 = 12\n",
        "# IQR = Q3 - Q1 = 12 - 4 = 8\n",
        "\n",
        "\n",
        "import numpy as np\n",
        "\n",
        "# Given data\n",
        "rain_fall = [85, 60, 72, 55, 105, 315, 380, 290, 190, 130, 95, 70]\n",
        "\n",
        "# Sort the data\n",
        "rain_fall.sort()\n",
        "\n",
        "# Calculate Quartiles\n",
        "q1 = np.percentile(rain_fall, 25)\n",
        "q2 = np.percentile(rain_fall, 50)  # Median\n",
        "q3 = np.percentile(rain_fall, 75)\n",
        "\n",
        "# Calculate IQR\n",
        "iqr = q3 - q1\n",
        "\n",
        "# Calculate inner fences (mild outliers)\n",
        "lower_limit = q1 - 1.5 * iqr\n",
        "upper_limit = q3 + 1.5 * iqr\n",
        "\n",
        "# Calculate outer fences (extreme outliers)\n",
        "outer_lower_limit = q1 - 3 * iqr\n",
        "outer_upper_limit = q3 + 3 * iqr\n",
        "\n",
        "# Print results\n",
        "print(f\"Sorted Data: {rain_fall}\")\n",
        "print(f\"Q1 = {q1}\")\n",
        "print(f\"Q2 (Median) = {q2}\")\n",
        "print(f\"Q3 = {q3}\")\n",
        "print(f\"IQR = {iqr}\")\n",
        "print(f\"Lower Limit = {lower_limit}\")\n",
        "print(f\"Upper Limit = {upper_limit}\")\n",
        "print(f\"Outer Lower Limit = {outer_lower_limit}\")\n",
        "print(f\"Outer Upper Limit = {outer_upper_limit}\")\n",
        "\n"
      ],
      "metadata": {
        "colab": {
          "base_uri": "https://localhost:8080/"
        },
        "id": "R2hsUEjpWxpk",
        "outputId": "0466c0eb-58d5-42a4-d107-e0a15cbd8757"
      },
      "execution_count": 2,
      "outputs": [
        {
          "output_type": "stream",
          "name": "stdout",
          "text": [
            "Sorted Data: [55, 60, 70, 72, 85, 95, 105, 130, 190, 290, 315, 380]\n",
            "Q1 = 71.5\n",
            "Q2 (Median) = 100.0\n",
            "Q3 = 215.0\n",
            "IQR = 143.5\n",
            "Lower Limit = -143.75\n",
            "Upper Limit = 430.25\n",
            "Outer Lower Limit = -359.0\n",
            "Outer Upper Limit = 645.5\n"
          ]
        }
      ]
    }
  ]
}