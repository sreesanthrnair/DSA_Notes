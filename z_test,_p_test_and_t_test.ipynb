{
  "cells": [
    {
      "cell_type": "markdown",
      "metadata": {
        "id": "view-in-github",
        "colab_type": "text"
      },
      "source": [
        "<a href=\"https://colab.research.google.com/github/sreesanthrnair/DSA_Notes/blob/main/z_test%2C_p_test_and_t_test.ipynb\" target=\"_parent\"><img src=\"https://colab.research.google.com/assets/colab-badge.svg\" alt=\"Open In Colab\"/></a>"
      ]
    },
    {
      "cell_type": "markdown",
      "source": [
        "\n",
        "\n",
        "-----\n",
        "\n",
        "## **1. What is Hypothesis Testing?**\n",
        "\n",
        "Hypothesis testing is a statistical method used to make decisions about a population based on sample data. It helps us determine if a claim or hypothesis about a population is likely to be true.\n",
        "\n",
        "-----\n",
        "\n",
        "## **2. Z-Test**\n",
        "\n",
        "A **Z-test** is a type of hypothesis test used to determine if there's a significant difference between a **sample mean** and a **population mean** when the **population standard deviation is known** and the sample size is **large** ($n \\\\ge 30$).\n",
        "\n",
        "### **Formula and Equation**\n",
        "\n",
        "The Z-statistic is calculated as:\n",
        "\n",
        "$$Z = \\frac{(\\bar{x} - \\mu)}{(\\frac{\\sigma}{\\sqrt{n}})}$$\n",
        "\n",
        "Where:\n",
        "\n",
        "  - **$\\\\bar{x}$** is the **sample mean**.\n",
        "  - **$\\\\mu$** is the **population mean**.\n",
        "  - **$\\\\sigma$** is the **population standard deviation**.\n",
        "  - **$n$** is the **sample size**.\n",
        "\n",
        "### **When to Use a Z-Test**\n",
        "\n",
        "  - The data is **normally distributed**.\n",
        "  - The **population standard deviation ($\\\\sigma$) is known**.\n",
        "  - The **sample size ($n$) is large** ($n \\\\ge 30$).\n",
        "\n",
        "-----\n",
        "\n",
        "## **3. T-Test**\n",
        "\n",
        "A **T-test** is a type of hypothesis test used to determine if there's a significant difference between the means of two groups, or between a sample mean and a population mean, when the **population standard deviation is unknown** and the sample size is **small** ($n \\< 30$).\n",
        "\n",
        "### **Formula and Equation**\n",
        "\n",
        "There are different types of T-tests. The formula for a **one-sample T-test** is:\n",
        "\n",
        "$$t = \\frac{(\\bar{x} - \\mu)}{(\\frac{s}{\\sqrt{n}})}$$\n",
        "\n",
        "Where:\n",
        "\n",
        "  - **$\\\\bar{x}$** is the **sample mean**.\n",
        "  - **$\\\\mu$** is the **population mean**.\n",
        "  - **$s$** is the **sample standard deviation**.\n",
        "  - **$n$** is the **sample size**.\n",
        "\n",
        "### **When to Use a T-Test**\n",
        "\n",
        "  - The data is **approximately normally distributed**.\n",
        "  - The **population standard deviation ($\\\\sigma$) is unknown**.\n",
        "  - The **sample size ($n$) is small** ($n \\< 30$).\n",
        "\n",
        "-----\n",
        "\n",
        "## **4. P-value (P-test)**\n",
        "\n",
        "The **p-value** is the probability of observing a test statistic as extreme as, or more extreme than, the one calculated from your sample data, assuming the null hypothesis is true. It's not a separate test but rather a crucial part of both Z-tests and T-tests.\n",
        "\n",
        "### **How to Interpret the P-value**\n",
        "\n",
        "The p-value helps us decide whether to reject or fail to reject the **null hypothesis ($H\\_0$)**.\n",
        "\n",
        "  - **If p-value $\\\\le \\\\alpha$ (alpha level)**: This means the results are statistically significant. **Reject the null hypothesis**. There is enough evidence to support the alternative hypothesis. The most common alpha level is 0.05.\n",
        "  - **If p-value $\\> \\\\alpha$**: This means the results are not statistically significant. **Fail to reject the null hypothesis**. There is not enough evidence to support the alternative hypothesis.\n",
        "\n",
        "-----\n",
        "\n",
        "## **5. Example in Python (using `scipy`)**\n",
        "\n",
        "Here's an example of how to perform a T-test and calculate the p-value using Python's `scipy` library."
      ],
      "metadata": {
        "id": "-LQjjZCZVOd_"
      }
    },
    {
      "cell_type": "code",
      "source": [
        "# Import the necessary library\n",
        "from scipy import stats\n",
        "import numpy as np\n",
        "\n",
        "# Sample data\n",
        "sample_data = np.array([10, 12, 11, 13, 15, 12, 11, 14, 13, 10])\n",
        "\n",
        "# Hypothesized population mean\n",
        "pop_mean = 12.5\n",
        "\n",
        "# Perform a one-sample T-test\n",
        "t_statistic, p_value = stats.ttest_1samp(a=sample_data, popmean=pop_mean)\n",
        "\n",
        "print(f\"Sample data: {sample_data}\")\n",
        "print(f\"Hypothesized population mean: {pop_mean}\")\n",
        "print(\"-\" * 30)\n",
        "print(f\"T-statistic: {t_statistic:.4f}\")\n",
        "print(f\"P-value: {p_value:.4f}\")\n",
        "\n",
        "# Interpret the result\n",
        "alpha = 0.05\n",
        "print(\"-\" * 30)\n",
        "if p_value < alpha:\n",
        "    print(\"Conclusion: The p-value is less than alpha. We reject the null hypothesis.\")\n",
        "    print(\"There is a significant difference between the sample mean and the population mean.\")\n",
        "else:\n",
        "    print(\"Conclusion: The p-value is greater than alpha. We fail to reject the null hypothesis.\")\n",
        "    print(\"There is no significant difference between the sample mean and the population mean.\")"
      ],
      "outputs": [],
      "execution_count": null,
      "metadata": {
        "id": "WeoYkeZVVOeK"
      }
    }
  ],
  "metadata": {
    "colab": {
      "provenance": [],
      "include_colab_link": true
    },
    "kernelspec": {
      "display_name": "Python 3",
      "name": "python3"
    }
  },
  "nbformat": 4,
  "nbformat_minor": 0
}