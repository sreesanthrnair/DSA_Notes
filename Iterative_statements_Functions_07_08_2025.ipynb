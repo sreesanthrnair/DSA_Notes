{
  "nbformat": 4,
  "nbformat_minor": 0,
  "metadata": {
    "colab": {
      "provenance": [],
      "authorship_tag": "ABX9TyMjX7D2cywp1a0O1lZcSKwe",
      "include_colab_link": true
    },
    "kernelspec": {
      "name": "python3",
      "display_name": "Python 3"
    },
    "language_info": {
      "name": "python"
    }
  },
  "cells": [
    {
      "cell_type": "markdown",
      "metadata": {
        "id": "view-in-github",
        "colab_type": "text"
      },
      "source": [
        "<a href=\"https://colab.research.google.com/github/sreesanthrnair/DSA_Notes/blob/main/Iterative_statements_Functions_07_08_2025.ipynb\" target=\"_parent\"><img src=\"https://colab.research.google.com/assets/colab-badge.svg\" alt=\"Open In Colab\"/></a>"
      ]
    },
    {
      "cell_type": "markdown",
      "source": [
        "## Iterative Statements\n",
        "\n"
      ],
      "metadata": {
        "id": "jv7YRNtbXZMz"
      }
    },
    {
      "cell_type": "code",
      "execution_count": null,
      "metadata": {
        "id": "MSQyJz8ZWlzq",
        "colab": {
          "base_uri": "https://localhost:8080/"
        },
        "outputId": "6f5fede6-c0eb-4dfa-8f29-7ba58a84fcea"
      },
      "outputs": [
        {
          "output_type": "stream",
          "name": "stdout",
          "text": [
            "0\n",
            "1\n",
            "2\n",
            "3\n",
            "4\n",
            "5\n",
            "6\n",
            "7\n",
            "8\n",
            "9\n",
            "10\n",
            "11\n",
            "12\n",
            "13\n",
            "14\n",
            "15\n",
            "16\n",
            "17\n",
            "18\n",
            "19\n"
          ]
        }
      ],
      "source": [
        "for i in range(20):\n",
        " print(i)\n",
        "\n",
        "\n"
      ]
    },
    {
      "cell_type": "code",
      "source": [
        "for num in range(100,150,2):\n",
        "  print(num)"
      ],
      "metadata": {
        "colab": {
          "base_uri": "https://localhost:8080/"
        },
        "id": "XeRg6M4rlcCv",
        "outputId": "a6c48251-45b6-4dee-ab68-faa17194da0c"
      },
      "execution_count": null,
      "outputs": [
        {
          "output_type": "stream",
          "name": "stdout",
          "text": [
            "100\n",
            "102\n",
            "104\n",
            "106\n",
            "108\n",
            "110\n",
            "112\n",
            "114\n",
            "116\n",
            "118\n",
            "120\n",
            "122\n",
            "124\n",
            "126\n",
            "128\n",
            "130\n",
            "132\n",
            "134\n",
            "136\n",
            "138\n",
            "140\n",
            "142\n",
            "144\n",
            "146\n",
            "148\n"
          ]
        }
      ]
    },
    {
      "cell_type": "code",
      "source": [
        "word='Remote Internship'\n",
        "for char in word:\n",
        "  print(char)"
      ],
      "metadata": {
        "colab": {
          "base_uri": "https://localhost:8080/"
        },
        "id": "lBBHZNjOlxXo",
        "outputId": "df02e33d-45aa-45eb-ffb9-0d3fdd7f34e6"
      },
      "execution_count": null,
      "outputs": [
        {
          "output_type": "stream",
          "name": "stdout",
          "text": [
            "R\n",
            "e\n",
            "m\n",
            "o\n",
            "t\n",
            "e\n",
            " \n",
            "I\n",
            "n\n",
            "t\n",
            "e\n",
            "r\n",
            "n\n",
            "s\n",
            "h\n",
            "i\n",
            "p\n"
          ]
        }
      ]
    },
    {
      "cell_type": "code",
      "source": [
        "alphabets=['a','b','c','d','e','f','g','h','i','j','k','l','m','n','o','p','q','r','s']\n",
        "for char in alphabets:\n",
        "  print(char)"
      ],
      "metadata": {
        "colab": {
          "base_uri": "https://localhost:8080/"
        },
        "id": "r-1TIsLOmLwb",
        "outputId": "5ec4d675-558f-4ae2-b29d-f402db8d9f05"
      },
      "execution_count": null,
      "outputs": [
        {
          "output_type": "stream",
          "name": "stdout",
          "text": [
            "a\n",
            "b\n",
            "c\n",
            "d\n",
            "e\n",
            "f\n",
            "g\n",
            "h\n",
            "i\n",
            "j\n",
            "k\n",
            "l\n",
            "m\n",
            "n\n",
            "o\n",
            "p\n",
            "q\n",
            "r\n",
            "s\n"
          ]
        }
      ]
    },
    {
      "cell_type": "code",
      "source": [
        "for i in range(len(alphabets)):\n",
        "  print(alphabets[i])"
      ],
      "metadata": {
        "colab": {
          "base_uri": "https://localhost:8080/"
        },
        "id": "vd46ln6LmyYo",
        "outputId": "94e68813-250f-4f6b-bfb1-dd5445bcab06"
      },
      "execution_count": null,
      "outputs": [
        {
          "output_type": "stream",
          "name": "stdout",
          "text": [
            "a\n",
            "b\n",
            "c\n",
            "d\n",
            "e\n",
            "f\n",
            "g\n",
            "h\n",
            "i\n",
            "j\n",
            "k\n",
            "l\n",
            "m\n",
            "n\n",
            "o\n",
            "p\n",
            "q\n",
            "r\n",
            "s\n"
          ]
        }
      ]
    },
    {
      "cell_type": "code",
      "source": [
        "for i in alphabets:\n",
        "  if(i=='s'):\n",
        "    print('Item found')\n",
        "  else:\n",
        "    print(i)"
      ],
      "metadata": {
        "colab": {
          "base_uri": "https://localhost:8080/"
        },
        "id": "BDYZeghHnWSu",
        "outputId": "a43e0d6b-0951-44b8-ab3f-4d24efb58a26"
      },
      "execution_count": null,
      "outputs": [
        {
          "output_type": "stream",
          "name": "stdout",
          "text": [
            "a\n",
            "b\n",
            "c\n",
            "d\n",
            "e\n",
            "f\n",
            "g\n",
            "h\n",
            "i\n",
            "j\n",
            "k\n",
            "l\n",
            "m\n",
            "n\n",
            "o\n",
            "p\n",
            "q\n",
            "r\n",
            "Item found\n"
          ]
        }
      ]
    },
    {
      "cell_type": "code",
      "source": [
        "my_dict={'name':'Nikhil','age':25,'course':'DSA','place':'Idukki','food':'Porotta','game':'Football','place':'Kerala'}\n"
      ],
      "metadata": {
        "id": "f7AnT-xxp9-q"
      },
      "execution_count": null,
      "outputs": []
    },
    {
      "cell_type": "code",
      "source": [
        "my_dict.values()"
      ],
      "metadata": {
        "colab": {
          "base_uri": "https://localhost:8080/"
        },
        "id": "u2IYVps8rMMl",
        "outputId": "9d668d0f-6395-4c26-d560-0f9fe1fa7849"
      },
      "execution_count": null,
      "outputs": [
        {
          "output_type": "execute_result",
          "data": {
            "text/plain": [
              "dict_values(['Nikhil', 25, 'DSA', 'Kerala', 'Porotta', 'Football'])"
            ]
          },
          "metadata": {},
          "execution_count": 35
        }
      ]
    },
    {
      "cell_type": "code",
      "source": [
        "my_dict.keys()"
      ],
      "metadata": {
        "colab": {
          "base_uri": "https://localhost:8080/"
        },
        "id": "ttGZaWAirplk",
        "outputId": "b60cbb5c-4cc6-45ab-ff9b-3f3d825b23a8"
      },
      "execution_count": null,
      "outputs": [
        {
          "output_type": "execute_result",
          "data": {
            "text/plain": [
              "dict_keys(['name', 'age', 'course', 'place', 'food', 'game'])"
            ]
          },
          "metadata": {},
          "execution_count": 36
        }
      ]
    },
    {
      "cell_type": "code",
      "source": [
        "my_dict.items()"
      ],
      "metadata": {
        "colab": {
          "base_uri": "https://localhost:8080/"
        },
        "id": "yCpH9fu8rs2F",
        "outputId": "28bce5f5-08cd-4d1c-97a0-567e2d8f4ca1"
      },
      "execution_count": null,
      "outputs": [
        {
          "output_type": "execute_result",
          "data": {
            "text/plain": [
              "dict_items([('name', 'Nikhil'), ('age', 25), ('course', 'DSA'), ('place', 'Kerala'), ('food', 'Porotta'), ('game', 'Football')])"
            ]
          },
          "metadata": {},
          "execution_count": 37
        }
      ]
    },
    {
      "cell_type": "code",
      "source": [
        "for k,v in my_dict.items():\n",
        "  print(f'my {k} is {v} .')"
      ],
      "metadata": {
        "colab": {
          "base_uri": "https://localhost:8080/"
        },
        "id": "gh37V4C0rzvS",
        "outputId": "62e41dda-d598-4afe-bbad-269232e64570"
      },
      "execution_count": null,
      "outputs": [
        {
          "output_type": "stream",
          "name": "stdout",
          "text": [
            "my name is Nikhil .\n",
            "my age is 25 .\n",
            "my course is DSA .\n",
            "my place is Kerala .\n",
            "my food is Porotta .\n",
            "my game is Football .\n"
          ]
        }
      ]
    },
    {
      "cell_type": "code",
      "source": [
        "new_list=[]\n",
        "my_item={'pen':10,'book':50,'pencil':7,'paper':5,'scale':15,'file':30}\n",
        "budget=int(input('Enter Your Balance : '))\n",
        "print('Avaliable Items ')\n",
        "for k,v in my_item.items():\n",
        "   print(f'{k} : {v}')\n",
        "for k,v in my_item.items():\n",
        "  if(budget>v):\n",
        "    new_list.append(k)\n",
        "    budget=budget-v\n",
        "print('You can only purchase this Items !')\n",
        "print(new_list)\n",
        "print('Your Balance is = ',budget)\n"
      ],
      "metadata": {
        "colab": {
          "base_uri": "https://localhost:8080/"
        },
        "id": "VGlZK81Wsc1r",
        "outputId": "2612907c-0129-4a9e-eaeb-d746008ccc9b"
      },
      "execution_count": null,
      "outputs": [
        {
          "output_type": "stream",
          "name": "stdout",
          "text": [
            "Enter Your Balance : 100\n",
            "Avaliable Items \n",
            "pen : 10\n",
            "book : 50\n",
            "pencil : 7\n",
            "paper : 5\n",
            "scale : 15\n",
            "file : 30\n",
            "You can only purchase this Items !\n",
            "['pen', 'book', 'pencil', 'paper', 'scale']\n",
            "Your Balance is =  13\n"
          ]
        }
      ]
    },
    {
      "cell_type": "code",
      "source": [
        "for i in range(1,101):\n",
        "  if(i %3==0 and i%5==0):\n",
        "    print(i)"
      ],
      "metadata": {
        "colab": {
          "base_uri": "https://localhost:8080/"
        },
        "id": "-qFvbFAr5hYL",
        "outputId": "bd45d9c6-ddde-4316-d82b-a122d545e5a8"
      },
      "execution_count": null,
      "outputs": [
        {
          "output_type": "stream",
          "name": "stdout",
          "text": [
            "15\n",
            "30\n",
            "45\n",
            "60\n",
            "75\n",
            "90\n",
            "105\n",
            "120\n",
            "135\n",
            "150\n",
            "165\n",
            "180\n",
            "195\n"
          ]
        }
      ]
    },
    {
      "cell_type": "code",
      "source": [
        "a=0\n",
        "while(a<10):\n",
        "  print(a)\n",
        "  a=a+2\n",
        "else:\n",
        "  print('You crossed the Limit !')"
      ],
      "metadata": {
        "colab": {
          "base_uri": "https://localhost:8080/"
        },
        "id": "MG_AsA5NAP31",
        "outputId": "b48515be-55dc-40d2-fa12-86df2530758c"
      },
      "execution_count": null,
      "outputs": [
        {
          "output_type": "stream",
          "name": "stdout",
          "text": [
            "0\n",
            "2\n",
            "4\n",
            "6\n",
            "8\n",
            "You crossed the Limit !\n"
          ]
        }
      ]
    },
    {
      "cell_type": "code",
      "source": [
        "balance=int(input('Enter the balance : '))\n",
        "while(balance>0):\n",
        " print(f'Balance is {balance}')\n",
        " balance-=15 #balance= balance-15\n",
        "else:\n",
        "  print('You crossed the limit !')\n",
        "\n",
        "\n"
      ],
      "metadata": {
        "colab": {
          "base_uri": "https://localhost:8080/"
        },
        "id": "H7DMPABjBhwi",
        "outputId": "bf937875-c36d-43fe-c18b-4d56d1b0e975"
      },
      "execution_count": null,
      "outputs": [
        {
          "output_type": "stream",
          "name": "stdout",
          "text": [
            "Enter the balance : 100\n",
            "Balance is 100\n",
            "Balance is 85\n",
            "Balance is 70\n",
            "Balance is 55\n",
            "Balance is 40\n",
            "Balance is 25\n",
            "Balance is 10\n",
            "You crossed the limit !\n"
          ]
        }
      ]
    },
    {
      "cell_type": "code",
      "source": [
        "secret=6\n",
        "guess=int(input('Guess my secret Number: '))\n",
        "while(guess!=secret):\n",
        "  print('Not Correct ! Try Again!')\n",
        "  guess=int(input('Guess my secret Number: '))\n",
        "\n",
        "else:\n",
        "  print('Yahh Correct')\n",
        "\n"
      ],
      "metadata": {
        "colab": {
          "base_uri": "https://localhost:8080/"
        },
        "id": "Q2YNqa2hEk0j",
        "outputId": "c829c190-ed41-4272-d335-71d5de481b56"
      },
      "execution_count": null,
      "outputs": [
        {
          "output_type": "stream",
          "name": "stdout",
          "text": [
            "Guess my secret Number: 7\n",
            "Not Correct ! Try Again!\n",
            "Guess my secret Number: 6\n",
            "Yahh Correct\n"
          ]
        }
      ]
    },
    {
      "cell_type": "code",
      "source": [
        "import random\n",
        "secret=random.randint(1,10)\n",
        "guess=int(input('Enter a Number:'))\n",
        "while(guess!=secret):\n",
        "  print('Not Correct ! Try Again!')\n",
        "  guess=int(input('Guess my secret Number: '))\n",
        "else:\n",
        "  print('Yahh Correct')\n",
        "\n"
      ],
      "metadata": {
        "colab": {
          "base_uri": "https://localhost:8080/"
        },
        "id": "hv6o-HjtJhL6",
        "outputId": "fd7fa30b-c04d-40fa-b3d9-ea38b29f9193"
      },
      "execution_count": null,
      "outputs": [
        {
          "output_type": "stream",
          "name": "stdout",
          "text": [
            "Enter a Number:9\n",
            "Not Correct ! Try Again!\n",
            "Guess my secret Number: 7\n",
            "Not Correct ! Try Again!\n",
            "Guess my secret Number: 5\n",
            "Not Correct ! Try Again!\n",
            "Guess my secret Number: 3\n",
            "Not Correct ! Try Again!\n",
            "Guess my secret Number: 16\n",
            "Not Correct ! Try Again!\n",
            "Guess my secret Number: 18\n",
            "Not Correct ! Try Again!\n",
            "Guess my secret Number: 15\n",
            "Not Correct ! Try Again!\n",
            "Guess my secret Number: 12\n",
            "Not Correct ! Try Again!\n",
            "Guess my secret Number: 11\n",
            "Not Correct ! Try Again!\n",
            "Guess my secret Number: 10\n",
            "Not Correct ! Try Again!\n",
            "Guess my secret Number: 8\n",
            "Not Correct ! Try Again!\n",
            "Guess my secret Number: 1\n",
            "Yahh Correct\n"
          ]
        }
      ]
    },
    {
      "cell_type": "code",
      "source": [
        "password='hello'\n",
        "tries=1\n",
        "while(tries<=3):\n",
        "  print(tries)\n",
        "  new_pass=(input('Enter the Password : '))\n",
        "  if(password==new_pass):\n",
        "    print('Woow Correct password !')\n",
        "    break\n",
        "  else:\n",
        "    print('Password is Not correct')\n",
        "  tries+=1\n",
        "else:\n",
        "  if(tries>=3):\n",
        "    print('Chance is over !')"
      ],
      "metadata": {
        "colab": {
          "base_uri": "https://localhost:8080/"
        },
        "id": "Z6g4GJy9RrY2",
        "outputId": "d8f841e2-b095-4c3b-bd9f-1834427ec803"
      },
      "execution_count": null,
      "outputs": [
        {
          "output_type": "stream",
          "name": "stdout",
          "text": [
            "1\n",
            "Enter the Password : gjd\n",
            "Password is Not correct\n",
            "2\n",
            "Enter the Password : dghj\n",
            "Password is Not correct\n",
            "3\n",
            "Enter the Password : gh\n",
            "Password is Not correct\n",
            "Chance is over !\n"
          ]
        }
      ]
    },
    {
      "cell_type": "code",
      "source": [
        "movies={'PS':6.0,'Dhrishyam':7.0,'Thudarum':8.0,'I':7.1,'The Dark Knight':7.5,'V for Vendetta':5.0,\n",
        "        'Mufasa The Lion King':7.2,'777 Charle':7.4,'Devesuram':10,'Empuran':4.2,'Sita Ramam':7.9,\n",
        "        'Manjummel Boys':8.9,'Premalu':4.8,'Aavesham':8.1,'Bramayugam':8.3,'RDX':4.7,\n",
        "        'Kannur Squad':4.0,'Romancham':5.3,'Kaduva':3.9,'Transformers Prime':9}\n",
        "\n",
        "print(movies.items())\n"
      ],
      "metadata": {
        "colab": {
          "base_uri": "https://localhost:8080/"
        },
        "id": "G5gl2oF4FT2v",
        "outputId": "c955ee19-ddba-4512-c8b7-1ca0709ca61e"
      },
      "execution_count": null,
      "outputs": [
        {
          "output_type": "stream",
          "name": "stdout",
          "text": [
            "dict_items([('PS', 6.0), ('Dhrishyam', 7.0), ('Thudarum', 8.0), ('I', 7.1), ('The Dark Knight', 7.5), ('V for Vendetta', 5.0), ('Mufasa The Lion King', 7.2), ('777 Charle', 7.4), ('Devesuram', 10), ('Empuran', 4.2), ('Sita Ramam', 7.9), ('Manjummel Boys', 8.9), ('Premalu', 4.8), ('Aavesham', 8.1), ('Bramayugam', 8.3), ('RDX', 4.7), ('Kannur Squad', 4.0), ('Romancham', 5.3), ('Kaduva', 3.9), ('Transformers Prime', 9)])\n"
          ]
        }
      ]
    },
    {
      "cell_type": "code",
      "source": [
        "print(movies.keys())\n"
      ],
      "metadata": {
        "colab": {
          "base_uri": "https://localhost:8080/"
        },
        "id": "ERaw7kvANdke",
        "outputId": "ccceb2b0-5a03-4f85-efd8-db5663997c72"
      },
      "execution_count": null,
      "outputs": [
        {
          "output_type": "stream",
          "name": "stdout",
          "text": [
            "dict_keys(['PS', 'Dhrishyam', 'Thudarum', 'I', 'The Dark Knight', 'V for Vendetta', 'Mufasa The Lion King', '777 Charle', 'Devesuram', 'Empuran', 'Sita Ramam', 'Manjummel Boys', 'Premalu', 'Aavesham', 'Bramayugam', 'RDX', 'Kannur Squad', 'Romancham', 'Kaduva', 'Transformers Prime'])\n"
          ]
        }
      ]
    },
    {
      "cell_type": "code",
      "source": [
        "#Update\n",
        "movies['Romancham']=4.0\n",
        "movies['Manjummel Boys']=5.0\n",
        "print(movies)"
      ],
      "metadata": {
        "colab": {
          "base_uri": "https://localhost:8080/"
        },
        "id": "gtB49RAkS-_e",
        "outputId": "f5a2ce1b-ddb0-4bad-a823-e8222540739b"
      },
      "execution_count": null,
      "outputs": [
        {
          "output_type": "stream",
          "name": "stdout",
          "text": [
            "{'PS': 6.0, 'Dhrishyam': 7.0, 'Thudarum': 8.0, 'I': 7.1, 'The Dark Knight': 7.5, 'V for Vendetta': 5.0, 'Mufasa The Lion King': 7.2, '777 Charle': 7.4, 'Devesuram': 10, 'Empuran': 4.2, 'Sita Ramam': 7.9, 'Manjummel Boys': 5.0, 'Premalu': 4.8, 'Aavesham': 8.1, 'Bramayugam': 8.3, 'RDX': 4.7, 'Kannur Squad': 4.0, 'Romancham': 4.0, 'Kaduva': 3.9, 'Transformers Prime': 9}\n"
          ]
        }
      ]
    },
    {
      "cell_type": "code",
      "source": [
        "#Add new\n",
        "movies['Arattu']=2.0\n",
        "movies['Monster ']=3.4\n",
        "print(movies)"
      ],
      "metadata": {
        "colab": {
          "base_uri": "https://localhost:8080/"
        },
        "id": "kKLe81MTVDz_",
        "outputId": "d596cdc6-c1ab-4b4d-ef66-25f60fc79615"
      },
      "execution_count": null,
      "outputs": [
        {
          "output_type": "stream",
          "name": "stdout",
          "text": [
            "{'PS': 6.0, 'Dhrishyam': 7.0, 'Thudarum': 8.0, 'I': 7.1, 'The Dark Knight': 7.5, 'V for Vendetta': 5.0, 'Mufasa The Lion King': 7.2, '777 Charle': 7.4, 'Devesuram': 10, 'Empuran': 4.2, 'Sita Ramam': 7.9, 'Manjummel Boys': 5.0, 'Premalu': 4.8, 'Aavesham': 8.1, 'Bramayugam': 8.3, 'RDX': 4.7, 'Kannur Squad': 4.0, 'Romancham': 4.0, 'Kaduva': 3.9, 'Transformers Prime': 9, 'Arattu': 2.0, 'Monster ': 3.4}\n"
          ]
        }
      ]
    },
    {
      "cell_type": "code",
      "source": [
        "highest_rating_movie=' '\n",
        "highest_rating=0\n",
        "for movie,rating in movies.items():\n",
        "  if(rating>highest_rating):\n",
        "    highest_rating=rating\n",
        "    highest_rating_movie=movie\n",
        "print(highest_rating_movie,highest_rating)"
      ],
      "metadata": {
        "colab": {
          "base_uri": "https://localhost:8080/"
        },
        "id": "401sj_5AVo73",
        "outputId": "aba365e4-21ac-47f7-92d7-642bfbd7fa6d"
      },
      "execution_count": null,
      "outputs": [
        {
          "output_type": "stream",
          "name": "stdout",
          "text": [
            "Devesuram 10\n"
          ]
        }
      ]
    },
    {
      "cell_type": "code",
      "source": [
        "#new_list=[]\n",
        "for movie,rating in list(movies.items()):\n",
        "  if(rating<5.0):\n",
        "    #new_list.append(movie)\n",
        "    movies.pop(movie)\n",
        "print(movies)\n",
        "#print(new_list)\n"
      ],
      "metadata": {
        "colab": {
          "base_uri": "https://localhost:8080/"
        },
        "id": "s9u-BXyJc2hd",
        "outputId": "0211937c-78f0-45d4-fb75-3c3a6873c8e6"
      },
      "execution_count": null,
      "outputs": [
        {
          "output_type": "stream",
          "name": "stdout",
          "text": [
            "{'PS': 6.0, 'Dhrishyam': 7.0, 'Thudarum': 8.0, 'I': 7.1, 'The Dark Knight': 7.5, 'V for Vendetta': 5.0, 'Mufasa The Lion King': 7.2, '777 Charle': 7.4, 'Devesuram': 10, 'Sita Ramam': 7.9, 'Manjummel Boys': 5.0, 'Aavesham': 8.1, 'Bramayugam': 8.3, 'Transformers Prime': 9}\n"
          ]
        }
      ]
    }
  ]
}